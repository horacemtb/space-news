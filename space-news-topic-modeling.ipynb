{
 "cells": [
  {
   "cell_type": "code",
   "execution_count": 1,
   "id": "7ddce7ab",
   "metadata": {
    "_kg_hide-output": true,
    "execution": {
     "iopub.execute_input": "2022-06-16T15:16:09.226829Z",
     "iopub.status.busy": "2022-06-16T15:16:09.225613Z",
     "iopub.status.idle": "2022-06-16T15:17:11.951179Z",
     "shell.execute_reply": "2022-06-16T15:17:11.950208Z"
    },
    "papermill": {
     "duration": 62.74182,
     "end_time": "2022-06-16T15:17:11.953641",
     "exception": false,
     "start_time": "2022-06-16T15:16:09.211821",
     "status": "completed"
    },
    "tags": []
   },
   "outputs": [
    {
     "name": "stdout",
     "output_type": "stream",
     "text": [
      "Requirement already satisfied: spacy in /opt/conda/lib/python3.7/site-packages (3.2.4)\r\n",
      "Requirement already satisfied: numpy>=1.15.0 in /opt/conda/lib/python3.7/site-packages (from spacy) (1.21.6)\r\n",
      "Requirement already satisfied: srsly<3.0.0,>=2.4.1 in /opt/conda/lib/python3.7/site-packages (from spacy) (2.4.3)\r\n",
      "Requirement already satisfied: preshed<3.1.0,>=3.0.2 in /opt/conda/lib/python3.7/site-packages (from spacy) (3.0.6)\r\n",
      "Requirement already satisfied: wasabi<1.1.0,>=0.8.1 in /opt/conda/lib/python3.7/site-packages (from spacy) (0.9.1)\r\n",
      "Requirement already satisfied: tqdm<5.0.0,>=4.38.0 in /opt/conda/lib/python3.7/site-packages (from spacy) (4.64.0)\r\n",
      "Requirement already satisfied: setuptools in /opt/conda/lib/python3.7/site-packages (from spacy) (59.8.0)\r\n",
      "Requirement already satisfied: jinja2 in /opt/conda/lib/python3.7/site-packages (from spacy) (3.1.2)\r\n",
      "Requirement already satisfied: pydantic!=1.8,!=1.8.1,<1.9.0,>=1.7.4 in /opt/conda/lib/python3.7/site-packages (from spacy) (1.8.2)\r\n",
      "Requirement already satisfied: spacy-legacy<3.1.0,>=3.0.8 in /opt/conda/lib/python3.7/site-packages (from spacy) (3.0.9)\r\n",
      "Requirement already satisfied: typer<0.5.0,>=0.3.0 in /opt/conda/lib/python3.7/site-packages (from spacy) (0.4.1)\r\n",
      "Requirement already satisfied: murmurhash<1.1.0,>=0.28.0 in /opt/conda/lib/python3.7/site-packages (from spacy) (1.0.7)\r\n",
      "Requirement already satisfied: catalogue<2.1.0,>=2.0.6 in /opt/conda/lib/python3.7/site-packages (from spacy) (2.0.7)\r\n",
      "Requirement already satisfied: pathy>=0.3.5 in /opt/conda/lib/python3.7/site-packages (from spacy) (0.6.1)\r\n",
      "Requirement already satisfied: requests<3.0.0,>=2.13.0 in /opt/conda/lib/python3.7/site-packages (from spacy) (2.27.1)\r\n",
      "Requirement already satisfied: thinc<8.1.0,>=8.0.12 in /opt/conda/lib/python3.7/site-packages (from spacy) (8.0.16)\r\n",
      "Collecting typing-extensions<4.0.0.0,>=3.7.4\r\n",
      "  Downloading typing_extensions-3.10.0.2-py3-none-any.whl (26 kB)\r\n",
      "Requirement already satisfied: click<8.1.0 in /opt/conda/lib/python3.7/site-packages (from spacy) (8.0.4)\r\n",
      "Requirement already satisfied: packaging>=20.0 in /opt/conda/lib/python3.7/site-packages (from spacy) (21.3)\r\n",
      "Requirement already satisfied: langcodes<4.0.0,>=3.2.0 in /opt/conda/lib/python3.7/site-packages (from spacy) (3.3.0)\r\n",
      "Requirement already satisfied: blis<0.8.0,>=0.4.0 in /opt/conda/lib/python3.7/site-packages (from spacy) (0.7.7)\r\n",
      "Requirement already satisfied: spacy-loggers<2.0.0,>=1.0.0 in /opt/conda/lib/python3.7/site-packages (from spacy) (1.0.2)\r\n",
      "Requirement already satisfied: cymem<2.1.0,>=2.0.2 in /opt/conda/lib/python3.7/site-packages (from spacy) (2.0.6)\r\n",
      "Requirement already satisfied: zipp>=0.5 in /opt/conda/lib/python3.7/site-packages (from catalogue<2.1.0,>=2.0.6->spacy) (3.8.0)\r\n",
      "Requirement already satisfied: importlib-metadata in /opt/conda/lib/python3.7/site-packages (from click<8.1.0->spacy) (4.11.4)\r\n",
      "Requirement already satisfied: pyparsing!=3.0.5,>=2.0.2 in /opt/conda/lib/python3.7/site-packages (from packaging>=20.0->spacy) (3.0.9)\r\n",
      "Requirement already satisfied: smart-open<6.0.0,>=5.0.0 in /opt/conda/lib/python3.7/site-packages (from pathy>=0.3.5->spacy) (5.2.1)\r\n",
      "Requirement already satisfied: certifi>=2017.4.17 in /opt/conda/lib/python3.7/site-packages (from requests<3.0.0,>=2.13.0->spacy) (2022.5.18.1)\r\n",
      "Requirement already satisfied: idna<4,>=2.5 in /opt/conda/lib/python3.7/site-packages (from requests<3.0.0,>=2.13.0->spacy) (3.3)\r\n",
      "Requirement already satisfied: urllib3<1.27,>=1.21.1 in /opt/conda/lib/python3.7/site-packages (from requests<3.0.0,>=2.13.0->spacy) (1.26.9)\r\n",
      "Requirement already satisfied: charset-normalizer~=2.0.0 in /opt/conda/lib/python3.7/site-packages (from requests<3.0.0,>=2.13.0->spacy) (2.0.12)\r\n",
      "Requirement already satisfied: MarkupSafe>=2.0 in /opt/conda/lib/python3.7/site-packages (from jinja2->spacy) (2.0.1)\r\n",
      "Installing collected packages: typing-extensions\r\n",
      "  Attempting uninstall: typing-extensions\r\n",
      "    Found existing installation: typing_extensions 4.2.0\r\n",
      "    Uninstalling typing_extensions-4.2.0:\r\n",
      "      Successfully uninstalled typing_extensions-4.2.0\r\n",
      "\u001b[31mERROR: pip's dependency resolver does not currently take into account all the packages that are installed. This behaviour is the source of the following dependency conflicts.\r\n",
      "tensorflow-io 0.21.0 requires tensorflow-io-gcs-filesystem==0.21.0, which is not installed.\r\n",
      "tensorflow 2.6.4 requires absl-py~=0.10, but you have absl-py 1.0.0 which is incompatible.\r\n",
      "tensorflow 2.6.4 requires numpy~=1.19.2, but you have numpy 1.21.6 which is incompatible.\r\n",
      "tensorflow 2.6.4 requires six~=1.15.0, but you have six 1.16.0 which is incompatible.\r\n",
      "tensorflow 2.6.4 requires wrapt~=1.12.1, but you have wrapt 1.14.1 which is incompatible.\r\n",
      "tensorflow-transform 1.8.0 requires pyarrow<6,>=1, but you have pyarrow 8.0.0 which is incompatible.\r\n",
      "tensorflow-transform 1.8.0 requires tensorflow!=2.0.*,!=2.1.*,!=2.2.*,!=2.3.*,!=2.4.*,!=2.5.*,!=2.6.*,!=2.7.*,<2.9,>=1.15.5, but you have tensorflow 2.6.4 which is incompatible.\r\n",
      "tensorflow-serving-api 2.8.0 requires tensorflow<3,>=2.8.0, but you have tensorflow 2.6.4 which is incompatible.\r\n",
      "rich 12.4.4 requires typing-extensions<5.0,>=4.0.0; python_version < \"3.9\", but you have typing-extensions 3.10.0.2 which is incompatible.\r\n",
      "pytorch-lightning 1.6.3 requires typing-extensions>=4.0.0, but you have typing-extensions 3.10.0.2 which is incompatible.\r\n",
      "flax 0.5.0 requires typing-extensions>=4.1.1, but you have typing-extensions 3.10.0.2 which is incompatible.\r\n",
      "flake8 4.0.1 requires importlib-metadata<4.3; python_version < \"3.8\", but you have importlib-metadata 4.11.4 which is incompatible.\r\n",
      "apache-beam 2.38.0 requires dill<0.3.2,>=0.3.1.1, but you have dill 0.3.5.1 which is incompatible.\r\n",
      "apache-beam 2.38.0 requires httplib2<0.20.0,>=0.8, but you have httplib2 0.20.4 which is incompatible.\r\n",
      "apache-beam 2.38.0 requires pyarrow<7.0.0,>=0.15.1, but you have pyarrow 8.0.0 which is incompatible.\r\n",
      "aioitertools 0.10.0 requires typing_extensions>=4.0; python_version < \"3.10\", but you have typing-extensions 3.10.0.2 which is incompatible.\r\n",
      "aiobotocore 2.3.2 requires botocore<1.24.22,>=1.24.21, but you have botocore 1.26.7 which is incompatible.\u001b[0m\u001b[31m\r\n",
      "\u001b[0mSuccessfully installed typing-extensions-3.10.0.2\r\n",
      "\u001b[33mWARNING: Running pip as the 'root' user can result in broken permissions and conflicting behaviour with the system package manager. It is recommended to use a virtual environment instead: https://pip.pypa.io/warnings/venv\u001b[0m\u001b[33m\r\n",
      "\u001b[0mCollecting spacy-transformers\r\n",
      "  Downloading spacy_transformers-1.1.6-py2.py3-none-any.whl (51 kB)\r\n",
      "\u001b[2K     \u001b[90m━━━━━━━━━━━━━━━━━━━━━━━━━━━━━━━━━━━━━━━\u001b[0m \u001b[32m51.5/51.5 kB\u001b[0m \u001b[31m223.3 kB/s\u001b[0m eta \u001b[36m0:00:00\u001b[0m\r\n",
      "\u001b[?25hRequirement already satisfied: spacy<4.0.0,>=3.1.3 in /opt/conda/lib/python3.7/site-packages (from spacy-transformers) (3.2.4)\r\n",
      "Requirement already satisfied: srsly<3.0.0,>=2.4.0 in /opt/conda/lib/python3.7/site-packages (from spacy-transformers) (2.4.3)\r\n",
      "Requirement already satisfied: transformers<4.20.0,>=3.4.0 in /opt/conda/lib/python3.7/site-packages (from spacy-transformers) (4.18.0)\r\n",
      "Collecting spacy-alignments<1.0.0,>=0.7.2\r\n",
      "  Downloading spacy_alignments-0.8.5-cp37-cp37m-manylinux_2_17_x86_64.manylinux2014_x86_64.whl (1.1 MB)\r\n",
      "\u001b[2K     \u001b[90m━━━━━━━━━━━━━━━━━━━━━━━━━━━━━━━━━━━━━━━━\u001b[0m \u001b[32m1.1/1.1 MB\u001b[0m \u001b[31m1.7 MB/s\u001b[0m eta \u001b[36m0:00:00\u001b[0m\r\n",
      "\u001b[?25hRequirement already satisfied: torch>=1.6.0 in /opt/conda/lib/python3.7/site-packages (from spacy-transformers) (1.11.0+cpu)\r\n",
      "Requirement already satisfied: tqdm<5.0.0,>=4.38.0 in /opt/conda/lib/python3.7/site-packages (from spacy<4.0.0,>=3.1.3->spacy-transformers) (4.64.0)\r\n",
      "Requirement already satisfied: spacy-loggers<2.0.0,>=1.0.0 in /opt/conda/lib/python3.7/site-packages (from spacy<4.0.0,>=3.1.3->spacy-transformers) (1.0.2)\r\n",
      "Requirement already satisfied: blis<0.8.0,>=0.4.0 in /opt/conda/lib/python3.7/site-packages (from spacy<4.0.0,>=3.1.3->spacy-transformers) (0.7.7)\r\n",
      "Requirement already satisfied: requests<3.0.0,>=2.13.0 in /opt/conda/lib/python3.7/site-packages (from spacy<4.0.0,>=3.1.3->spacy-transformers) (2.27.1)\r\n",
      "Requirement already satisfied: cymem<2.1.0,>=2.0.2 in /opt/conda/lib/python3.7/site-packages (from spacy<4.0.0,>=3.1.3->spacy-transformers) (2.0.6)\r\n",
      "Requirement already satisfied: preshed<3.1.0,>=3.0.2 in /opt/conda/lib/python3.7/site-packages (from spacy<4.0.0,>=3.1.3->spacy-transformers) (3.0.6)\r\n",
      "Requirement already satisfied: wasabi<1.1.0,>=0.8.1 in /opt/conda/lib/python3.7/site-packages (from spacy<4.0.0,>=3.1.3->spacy-transformers) (0.9.1)\r\n",
      "Requirement already satisfied: langcodes<4.0.0,>=3.2.0 in /opt/conda/lib/python3.7/site-packages (from spacy<4.0.0,>=3.1.3->spacy-transformers) (3.3.0)\r\n",
      "Requirement already satisfied: typing-extensions<4.0.0.0,>=3.7.4 in /opt/conda/lib/python3.7/site-packages (from spacy<4.0.0,>=3.1.3->spacy-transformers) (3.10.0.2)\r\n",
      "Requirement already satisfied: murmurhash<1.1.0,>=0.28.0 in /opt/conda/lib/python3.7/site-packages (from spacy<4.0.0,>=3.1.3->spacy-transformers) (1.0.7)\r\n",
      "Requirement already satisfied: catalogue<2.1.0,>=2.0.6 in /opt/conda/lib/python3.7/site-packages (from spacy<4.0.0,>=3.1.3->spacy-transformers) (2.0.7)\r\n",
      "Requirement already satisfied: pydantic!=1.8,!=1.8.1,<1.9.0,>=1.7.4 in /opt/conda/lib/python3.7/site-packages (from spacy<4.0.0,>=3.1.3->spacy-transformers) (1.8.2)\r\n",
      "Requirement already satisfied: pathy>=0.3.5 in /opt/conda/lib/python3.7/site-packages (from spacy<4.0.0,>=3.1.3->spacy-transformers) (0.6.1)\r\n",
      "Requirement already satisfied: packaging>=20.0 in /opt/conda/lib/python3.7/site-packages (from spacy<4.0.0,>=3.1.3->spacy-transformers) (21.3)\r\n",
      "Requirement already satisfied: typer<0.5.0,>=0.3.0 in /opt/conda/lib/python3.7/site-packages (from spacy<4.0.0,>=3.1.3->spacy-transformers) (0.4.1)\r\n",
      "Requirement already satisfied: thinc<8.1.0,>=8.0.12 in /opt/conda/lib/python3.7/site-packages (from spacy<4.0.0,>=3.1.3->spacy-transformers) (8.0.16)\r\n",
      "Requirement already satisfied: click<8.1.0 in /opt/conda/lib/python3.7/site-packages (from spacy<4.0.0,>=3.1.3->spacy-transformers) (8.0.4)\r\n",
      "Requirement already satisfied: jinja2 in /opt/conda/lib/python3.7/site-packages (from spacy<4.0.0,>=3.1.3->spacy-transformers) (3.1.2)\r\n",
      "Requirement already satisfied: setuptools in /opt/conda/lib/python3.7/site-packages (from spacy<4.0.0,>=3.1.3->spacy-transformers) (59.8.0)\r\n",
      "Requirement already satisfied: spacy-legacy<3.1.0,>=3.0.8 in /opt/conda/lib/python3.7/site-packages (from spacy<4.0.0,>=3.1.3->spacy-transformers) (3.0.9)\r\n",
      "Requirement already satisfied: numpy>=1.15.0 in /opt/conda/lib/python3.7/site-packages (from spacy<4.0.0,>=3.1.3->spacy-transformers) (1.21.6)\r\n",
      "Requirement already satisfied: filelock in /opt/conda/lib/python3.7/site-packages (from transformers<4.20.0,>=3.4.0->spacy-transformers) (3.6.0)\r\n",
      "Requirement already satisfied: sacremoses in /opt/conda/lib/python3.7/site-packages (from transformers<4.20.0,>=3.4.0->spacy-transformers) (0.0.53)\r\n",
      "Requirement already satisfied: tokenizers!=0.11.3,<0.13,>=0.11.1 in /opt/conda/lib/python3.7/site-packages (from transformers<4.20.0,>=3.4.0->spacy-transformers) (0.12.1)\r\n",
      "Requirement already satisfied: pyyaml>=5.1 in /opt/conda/lib/python3.7/site-packages (from transformers<4.20.0,>=3.4.0->spacy-transformers) (6.0)\r\n",
      "Requirement already satisfied: huggingface-hub<1.0,>=0.1.0 in /opt/conda/lib/python3.7/site-packages (from transformers<4.20.0,>=3.4.0->spacy-transformers) (0.5.1)\r\n",
      "Requirement already satisfied: regex!=2019.12.17 in /opt/conda/lib/python3.7/site-packages (from transformers<4.20.0,>=3.4.0->spacy-transformers) (2021.11.10)\r\n",
      "Requirement already satisfied: importlib-metadata in /opt/conda/lib/python3.7/site-packages (from transformers<4.20.0,>=3.4.0->spacy-transformers) (4.11.4)\r\n",
      "Requirement already satisfied: zipp>=0.5 in /opt/conda/lib/python3.7/site-packages (from catalogue<2.1.0,>=2.0.6->spacy<4.0.0,>=3.1.3->spacy-transformers) (3.8.0)\r\n",
      "Requirement already satisfied: pyparsing!=3.0.5,>=2.0.2 in /opt/conda/lib/python3.7/site-packages (from packaging>=20.0->spacy<4.0.0,>=3.1.3->spacy-transformers) (3.0.9)\r\n",
      "Requirement already satisfied: smart-open<6.0.0,>=5.0.0 in /opt/conda/lib/python3.7/site-packages (from pathy>=0.3.5->spacy<4.0.0,>=3.1.3->spacy-transformers) (5.2.1)\r\n",
      "Requirement already satisfied: urllib3<1.27,>=1.21.1 in /opt/conda/lib/python3.7/site-packages (from requests<3.0.0,>=2.13.0->spacy<4.0.0,>=3.1.3->spacy-transformers) (1.26.9)\r\n",
      "Requirement already satisfied: certifi>=2017.4.17 in /opt/conda/lib/python3.7/site-packages (from requests<3.0.0,>=2.13.0->spacy<4.0.0,>=3.1.3->spacy-transformers) (2022.5.18.1)\r\n",
      "Requirement already satisfied: charset-normalizer~=2.0.0 in /opt/conda/lib/python3.7/site-packages (from requests<3.0.0,>=2.13.0->spacy<4.0.0,>=3.1.3->spacy-transformers) (2.0.12)\r\n",
      "Requirement already satisfied: idna<4,>=2.5 in /opt/conda/lib/python3.7/site-packages (from requests<3.0.0,>=2.13.0->spacy<4.0.0,>=3.1.3->spacy-transformers) (3.3)\r\n",
      "Requirement already satisfied: MarkupSafe>=2.0 in /opt/conda/lib/python3.7/site-packages (from jinja2->spacy<4.0.0,>=3.1.3->spacy-transformers) (2.0.1)\r\n",
      "Requirement already satisfied: joblib in /opt/conda/lib/python3.7/site-packages (from sacremoses->transformers<4.20.0,>=3.4.0->spacy-transformers) (1.1.0)\r\n",
      "Requirement already satisfied: six in /opt/conda/lib/python3.7/site-packages (from sacremoses->transformers<4.20.0,>=3.4.0->spacy-transformers) (1.16.0)\r\n",
      "Installing collected packages: spacy-alignments, spacy-transformers\r\n",
      "Successfully installed spacy-alignments-0.8.5 spacy-transformers-1.1.6\r\n",
      "\u001b[33mWARNING: Running pip as the 'root' user can result in broken permissions and conflicting behaviour with the system package manager. It is recommended to use a virtual environment instead: https://pip.pypa.io/warnings/venv\u001b[0m\u001b[33m\r\n",
      "\u001b[0mCollecting yake\r\n",
      "  Downloading yake-0.4.8-py2.py3-none-any.whl (60 kB)\r\n",
      "\u001b[2K     \u001b[90m━━━━━━━━━━━━━━━━━━━━━━━━━━━━━━━━━━━━━━━\u001b[0m \u001b[32m60.2/60.2 kB\u001b[0m \u001b[31m252.5 kB/s\u001b[0m eta \u001b[36m0:00:00\u001b[0m\r\n",
      "\u001b[?25hRequirement already satisfied: click>=6.0 in /opt/conda/lib/python3.7/site-packages (from yake) (8.0.4)\r\n",
      "Requirement already satisfied: networkx in /opt/conda/lib/python3.7/site-packages (from yake) (2.5)\r\n",
      "Collecting jellyfish\r\n",
      "  Downloading jellyfish-0.9.0.tar.gz (132 kB)\r\n",
      "\u001b[2K     \u001b[90m━━━━━━━━━━━━━━━━━━━━━━━━━━━━━━━━━━━━━\u001b[0m \u001b[32m132.6/132.6 kB\u001b[0m \u001b[31m590.5 kB/s\u001b[0m eta \u001b[36m0:00:00\u001b[0m\r\n",
      "\u001b[?25h  Preparing metadata (setup.py) ... \u001b[?25l-\b \bdone\r\n",
      "\u001b[?25hCollecting segtok\r\n",
      "  Downloading segtok-1.5.11-py3-none-any.whl (24 kB)\r\n",
      "Requirement already satisfied: tabulate in /opt/conda/lib/python3.7/site-packages (from yake) (0.8.9)\r\n",
      "Requirement already satisfied: numpy in /opt/conda/lib/python3.7/site-packages (from yake) (1.21.6)\r\n",
      "Requirement already satisfied: importlib-metadata in /opt/conda/lib/python3.7/site-packages (from click>=6.0->yake) (4.11.4)\r\n",
      "Requirement already satisfied: decorator>=4.3.0 in /opt/conda/lib/python3.7/site-packages (from networkx->yake) (5.1.1)\r\n",
      "Requirement already satisfied: regex in /opt/conda/lib/python3.7/site-packages (from segtok->yake) (2021.11.10)\r\n",
      "Requirement already satisfied: zipp>=0.5 in /opt/conda/lib/python3.7/site-packages (from importlib-metadata->click>=6.0->yake) (3.8.0)\r\n",
      "Requirement already satisfied: typing-extensions>=3.6.4 in /opt/conda/lib/python3.7/site-packages (from importlib-metadata->click>=6.0->yake) (3.10.0.2)\r\n",
      "Building wheels for collected packages: jellyfish\r\n",
      "  Building wheel for jellyfish (setup.py) ... \u001b[?25l-\b \b\\\b \b|\b \b/\b \b-\b \b\\\b \b|\b \b/\b \b-\b \b\\\b \bdone\r\n",
      "\u001b[?25h  Created wheel for jellyfish: filename=jellyfish-0.9.0-cp37-cp37m-linux_x86_64.whl size=102014 sha256=597a1517163065bcd3bde351ae03fc18503c4693bcbdb3f2876722f5a4c77ea9\r\n",
      "  Stored in directory: /root/.cache/pip/wheels/fe/99/4e/646ce766df0d070b0ef04db27aa11543e2767fda3075aec31b\r\n",
      "Successfully built jellyfish\r\n",
      "Installing collected packages: segtok, jellyfish, yake\r\n",
      "Successfully installed jellyfish-0.9.0 segtok-1.5.11 yake-0.4.8\r\n",
      "\u001b[33mWARNING: Running pip as the 'root' user can result in broken permissions and conflicting behaviour with the system package manager. It is recommended to use a virtual environment instead: https://pip.pypa.io/warnings/venv\u001b[0m\u001b[33m\r\n",
      "\u001b[0m"
     ]
    }
   ],
   "source": [
    "!pip install spacy\n",
    "!pip install spacy-transformers\n",
    "!pip install yake\n",
    "\n",
    "import pandas as pd\n",
    "import numpy as np\n",
    "\n",
    "import torch\n",
    "import spacy\n",
    "import spacy_transformers\n",
    "\n",
    "from tqdm import tqdm\n",
    "\n",
    "import requests\n",
    "from bs4 import BeautifulSoup\n",
    "import re\n",
    "\n",
    "import matplotlib.pyplot as plt\n",
    "\n",
    "from sklearn.feature_extraction.text import TfidfVectorizer\n",
    "import gensim.downloader as api\n",
    "from gensim.models import Word2Vec\n",
    "\n",
    "import seaborn as sns\n",
    "\n",
    "from yellowbrick.cluster import KElbowVisualizer\n",
    "from sklearn.cluster import KMeans\n",
    "from sklearn.metrics import davies_bouldin_score\n",
    "\n",
    "from collections import defaultdict\n",
    "\n",
    "import yake"
   ]
  },
  {
   "cell_type": "code",
   "execution_count": 2,
   "id": "e792042a",
   "metadata": {
    "execution": {
     "iopub.execute_input": "2022-06-16T15:17:11.985792Z",
     "iopub.status.busy": "2022-06-16T15:17:11.984861Z",
     "iopub.status.idle": "2022-06-16T15:17:11.989544Z",
     "shell.execute_reply": "2022-06-16T15:17:11.988908Z"
    },
    "papermill": {
     "duration": 0.02282,
     "end_time": "2022-06-16T15:17:11.991457",
     "exception": false,
     "start_time": "2022-06-16T15:17:11.968637",
     "status": "completed"
    },
    "tags": []
   },
   "outputs": [],
   "source": [
    "pd.set_option('display.max_rows', 300)"
   ]
  },
  {
   "cell_type": "code",
   "execution_count": 3,
   "id": "27abff59",
   "metadata": {
    "execution": {
     "iopub.execute_input": "2022-06-16T15:17:12.024429Z",
     "iopub.status.busy": "2022-06-16T15:17:12.023822Z",
     "iopub.status.idle": "2022-06-16T15:17:12.731938Z",
     "shell.execute_reply": "2022-06-16T15:17:12.731092Z"
    },
    "papermill": {
     "duration": 0.727227,
     "end_time": "2022-06-16T15:17:12.734602",
     "exception": false,
     "start_time": "2022-06-16T15:17:12.007375",
     "status": "completed"
    },
    "scrolled": true,
    "tags": []
   },
   "outputs": [],
   "source": [
    "#We will need spacy for text preprocessing\n",
    "\n",
    "nlp = spacy.load(\"en_core_web_sm\")"
   ]
  },
  {
   "cell_type": "code",
   "execution_count": 4,
   "id": "7b86f83e",
   "metadata": {
    "execution": {
     "iopub.execute_input": "2022-06-16T15:17:12.772500Z",
     "iopub.status.busy": "2022-06-16T15:17:12.771761Z",
     "iopub.status.idle": "2022-06-16T15:17:14.927959Z",
     "shell.execute_reply": "2022-06-16T15:17:14.927248Z"
    },
    "papermill": {
     "duration": 2.1746,
     "end_time": "2022-06-16T15:17:14.930122",
     "exception": false,
     "start_time": "2022-06-16T15:17:12.755522",
     "status": "completed"
    },
    "tags": []
   },
   "outputs": [],
   "source": [
    "df = pd.read_csv('../input/space-news-dataset/spacenews.csv')"
   ]
  },
  {
   "cell_type": "code",
   "execution_count": 5,
   "id": "819ca60e",
   "metadata": {
    "execution": {
     "iopub.execute_input": "2022-06-16T15:17:14.962555Z",
     "iopub.status.busy": "2022-06-16T15:17:14.962062Z",
     "iopub.status.idle": "2022-06-16T15:17:14.980994Z",
     "shell.execute_reply": "2022-06-16T15:17:14.980027Z"
    },
    "papermill": {
     "duration": 0.037515,
     "end_time": "2022-06-16T15:17:14.983088",
     "exception": false,
     "start_time": "2022-06-16T15:17:14.945573",
     "status": "completed"
    },
    "tags": []
   },
   "outputs": [
    {
     "data": {
      "text/html": [
       "<div>\n",
       "<style scoped>\n",
       "    .dataframe tbody tr th:only-of-type {\n",
       "        vertical-align: middle;\n",
       "    }\n",
       "\n",
       "    .dataframe tbody tr th {\n",
       "        vertical-align: top;\n",
       "    }\n",
       "\n",
       "    .dataframe thead th {\n",
       "        text-align: right;\n",
       "    }\n",
       "</style>\n",
       "<table border=\"1\" class=\"dataframe\">\n",
       "  <thead>\n",
       "    <tr style=\"text-align: right;\">\n",
       "      <th></th>\n",
       "      <th>title</th>\n",
       "      <th>url</th>\n",
       "      <th>content</th>\n",
       "      <th>author</th>\n",
       "      <th>date</th>\n",
       "      <th>postexcerpt</th>\n",
       "    </tr>\n",
       "  </thead>\n",
       "  <tbody>\n",
       "    <tr>\n",
       "      <th>0</th>\n",
       "      <td>Astrocast buying Hiber to boost funding and ex...</td>\n",
       "      <td>https://spacenews.com/astrocast-buying-hiber-t...</td>\n",
       "      <td>TAMPA, Fla. — Cash-strapped smallsat operator ...</td>\n",
       "      <td>Jason Rainbow</td>\n",
       "      <td>May 31, 2022</td>\n",
       "      <td>Cash-strapped smallsat operator Astrocast anno...</td>\n",
       "    </tr>\n",
       "    <tr>\n",
       "      <th>1</th>\n",
       "      <td>Sierra Space to partner with Spirit AeroSystem...</td>\n",
       "      <td>https://spacenews.com/sierra-space-to-partner-...</td>\n",
       "      <td>WASHINGTON — Sierra Space announced May 31 a s...</td>\n",
       "      <td>Jeff Foust</td>\n",
       "      <td>May 31, 2022</td>\n",
       "      <td>Sierra Space announced May 31 a strategic part...</td>\n",
       "    </tr>\n",
       "    <tr>\n",
       "      <th>2</th>\n",
       "      <td>Rocket to launch China’s next space station mo...</td>\n",
       "      <td>https://spacenews.com/rocket-to-launch-chinas-...</td>\n",
       "      <td>HELSINKI — A Long March 5B rocket has arrived ...</td>\n",
       "      <td>Andrew Jones</td>\n",
       "      <td>May 31, 2022</td>\n",
       "      <td>A Long March 5B rocket has arrived at Wenchang...</td>\n",
       "    </tr>\n",
       "    <tr>\n",
       "      <th>3</th>\n",
       "      <td>Against Quad? China launches satellite-based E...</td>\n",
       "      <td>https://spacenews.com/against-quad-china-launc...</td>\n",
       "      <td>SEOUL, South Korea — In what appears to be a t...</td>\n",
       "      <td>Park Si-soo</td>\n",
       "      <td>May 31, 2022</td>\n",
       "      <td>In what appears to be a tit-for-tat move again...</td>\n",
       "    </tr>\n",
       "    <tr>\n",
       "      <th>4</th>\n",
       "      <td>House committee questions proposed delay in NA...</td>\n",
       "      <td>https://spacenews.com/house-committee-question...</td>\n",
       "      <td>WASHINGTON — Members of the House Science Comm...</td>\n",
       "      <td>Jeff Foust</td>\n",
       "      <td>May 31, 2022</td>\n",
       "      <td>Members of the House Science Committee used a ...</td>\n",
       "    </tr>\n",
       "  </tbody>\n",
       "</table>\n",
       "</div>"
      ],
      "text/plain": [
       "                                               title  \\\n",
       "0  Astrocast buying Hiber to boost funding and ex...   \n",
       "1  Sierra Space to partner with Spirit AeroSystem...   \n",
       "2  Rocket to launch China’s next space station mo...   \n",
       "3  Against Quad? China launches satellite-based E...   \n",
       "4  House committee questions proposed delay in NA...   \n",
       "\n",
       "                                                 url  \\\n",
       "0  https://spacenews.com/astrocast-buying-hiber-t...   \n",
       "1  https://spacenews.com/sierra-space-to-partner-...   \n",
       "2  https://spacenews.com/rocket-to-launch-chinas-...   \n",
       "3  https://spacenews.com/against-quad-china-launc...   \n",
       "4  https://spacenews.com/house-committee-question...   \n",
       "\n",
       "                                             content         author  \\\n",
       "0  TAMPA, Fla. — Cash-strapped smallsat operator ...  Jason Rainbow   \n",
       "1  WASHINGTON — Sierra Space announced May 31 a s...     Jeff Foust   \n",
       "2  HELSINKI — A Long March 5B rocket has arrived ...   Andrew Jones   \n",
       "3  SEOUL, South Korea — In what appears to be a t...    Park Si-soo   \n",
       "4  WASHINGTON — Members of the House Science Comm...     Jeff Foust   \n",
       "\n",
       "           date                                        postexcerpt  \n",
       "0  May 31, 2022  Cash-strapped smallsat operator Astrocast anno...  \n",
       "1  May 31, 2022  Sierra Space announced May 31 a strategic part...  \n",
       "2  May 31, 2022  A Long March 5B rocket has arrived at Wenchang...  \n",
       "3  May 31, 2022  In what appears to be a tit-for-tat move again...  \n",
       "4  May 31, 2022  Members of the House Science Committee used a ...  "
      ]
     },
     "execution_count": 5,
     "metadata": {},
     "output_type": "execute_result"
    }
   ],
   "source": [
    "df.head()"
   ]
  },
  {
   "cell_type": "code",
   "execution_count": 6,
   "id": "05fa6761",
   "metadata": {
    "execution": {
     "iopub.execute_input": "2022-06-16T15:17:15.015240Z",
     "iopub.status.busy": "2022-06-16T15:17:15.014844Z",
     "iopub.status.idle": "2022-06-16T15:17:15.020750Z",
     "shell.execute_reply": "2022-06-16T15:17:15.019951Z"
    },
    "papermill": {
     "duration": 0.023954,
     "end_time": "2022-06-16T15:17:15.022440",
     "exception": false,
     "start_time": "2022-06-16T15:17:14.998486",
     "status": "completed"
    },
    "tags": []
   },
   "outputs": [
    {
     "data": {
      "text/plain": [
       "(17474, 6)"
      ]
     },
     "execution_count": 6,
     "metadata": {},
     "output_type": "execute_result"
    }
   ],
   "source": [
    "df.shape"
   ]
  },
  {
   "cell_type": "code",
   "execution_count": 7,
   "id": "cb5186e4",
   "metadata": {
    "execution": {
     "iopub.execute_input": "2022-06-16T15:17:15.054359Z",
     "iopub.status.busy": "2022-06-16T15:17:15.053987Z",
     "iopub.status.idle": "2022-06-16T15:17:15.071010Z",
     "shell.execute_reply": "2022-06-16T15:17:15.070114Z"
    },
    "papermill": {
     "duration": 0.035192,
     "end_time": "2022-06-16T15:17:15.072932",
     "exception": false,
     "start_time": "2022-06-16T15:17:15.037740",
     "status": "completed"
    },
    "scrolled": true,
    "tags": []
   },
   "outputs": [
    {
     "data": {
      "text/plain": [
       "title            0\n",
       "url              0\n",
       "content        167\n",
       "author           0\n",
       "date             0\n",
       "postexcerpt    134\n",
       "dtype: int64"
      ]
     },
     "execution_count": 7,
     "metadata": {},
     "output_type": "execute_result"
    }
   ],
   "source": [
    "#Check for NaN values\n",
    "\n",
    "df.isna().sum()"
   ]
  },
  {
   "cell_type": "code",
   "execution_count": 8,
   "id": "10fc2347",
   "metadata": {
    "execution": {
     "iopub.execute_input": "2022-06-16T15:17:15.105543Z",
     "iopub.status.busy": "2022-06-16T15:17:15.105178Z",
     "iopub.status.idle": "2022-06-16T15:17:15.117964Z",
     "shell.execute_reply": "2022-06-16T15:17:15.116988Z"
    },
    "papermill": {
     "duration": 0.031567,
     "end_time": "2022-06-16T15:17:15.119897",
     "exception": false,
     "start_time": "2022-06-16T15:17:15.088330",
     "status": "completed"
    },
    "tags": []
   },
   "outputs": [],
   "source": [
    "#Obtain the indices of the dataset where the content value is NaN.\n",
    "\n",
    "content_nan_indices = df[df['content'].isnull()].index"
   ]
  },
  {
   "cell_type": "code",
   "execution_count": 9,
   "id": "d53c7898",
   "metadata": {
    "execution": {
     "iopub.execute_input": "2022-06-16T15:17:15.152725Z",
     "iopub.status.busy": "2022-06-16T15:17:15.151747Z",
     "iopub.status.idle": "2022-06-16T15:17:15.157408Z",
     "shell.execute_reply": "2022-06-16T15:17:15.156740Z"
    },
    "papermill": {
     "duration": 0.024075,
     "end_time": "2022-06-16T15:17:15.159323",
     "exception": false,
     "start_time": "2022-06-16T15:17:15.135248",
     "status": "completed"
    },
    "tags": []
   },
   "outputs": [],
   "source": [
    "# Let's try to get the contents of the missing articles using Requests and Beautiful Soup. \n",
    "# I checked some of these, and their contents seem to be under the tablet-wrapper class.  \n",
    "\n",
    "def get_article_content(url):\n",
    "    page = requests.get(url)\n",
    "    soup = BeautifulSoup(page.content, \"html.parser\")\n",
    "    article_content = soup.find(\"div\", class_ = \"tablet-wrapper\").text\n",
    "    return article_content"
   ]
  },
  {
   "cell_type": "code",
   "execution_count": 10,
   "id": "23458a8f",
   "metadata": {
    "execution": {
     "iopub.execute_input": "2022-06-16T15:17:15.192571Z",
     "iopub.status.busy": "2022-06-16T15:17:15.191452Z",
     "iopub.status.idle": "2022-06-16T15:19:58.936887Z",
     "shell.execute_reply": "2022-06-16T15:19:58.935593Z"
    },
    "papermill": {
     "duration": 163.765062,
     "end_time": "2022-06-16T15:19:58.939781",
     "exception": false,
     "start_time": "2022-06-16T15:17:15.174719",
     "status": "completed"
    },
    "scrolled": true,
    "tags": []
   },
   "outputs": [
    {
     "name": "stderr",
     "output_type": "stream",
     "text": [
      "167it [02:43,  1.02it/s]"
     ]
    },
    {
     "name": "stdout",
     "output_type": "stream",
     "text": [
      "Failed to get content for 31 articles\n"
     ]
    },
    {
     "name": "stderr",
     "output_type": "stream",
     "text": [
      "\n"
     ]
    }
   ],
   "source": [
    "#We still couldn't get some of them, but the rest look fine.\n",
    "\n",
    "total_errors = 0\n",
    "\n",
    "for i, u in tqdm(zip(content_nan_indices, df.loc[content_nan_indices, 'url'].values)):\n",
    "    try:\n",
    "        df.loc[i, 'content'] = get_article_content(u)\n",
    "    except:\n",
    "        #print('Error getting content from web page')\n",
    "        total_errors += 1\n",
    "    \n",
    "print('Failed to get content for {} articles'.format(total_errors))"
   ]
  },
  {
   "cell_type": "code",
   "execution_count": 11,
   "id": "640edad3",
   "metadata": {
    "execution": {
     "iopub.execute_input": "2022-06-16T15:19:58.987858Z",
     "iopub.status.busy": "2022-06-16T15:19:58.987242Z",
     "iopub.status.idle": "2022-06-16T15:19:58.995336Z",
     "shell.execute_reply": "2022-06-16T15:19:58.994308Z"
    },
    "papermill": {
     "duration": 0.034104,
     "end_time": "2022-06-16T15:19:58.997059",
     "exception": false,
     "start_time": "2022-06-16T15:19:58.962955",
     "status": "completed"
    },
    "tags": []
   },
   "outputs": [
    {
     "data": {
      "text/plain": [
       "1023    \\nRhea Space Activity will develop an autonomo...\n",
       "3729                                                  NaN\n",
       "3756    \\n“We can’t build Orion from home.\"\\n\\n\\n\\n\\nT...\n",
       "4273    \\n\\n\\n\\n\\nSAN FRANCISCO — Ursa Space Systems, ...\n",
       "4575                                                  NaN\n",
       "4699    \\n\\n\\nLOGAN, Utah — Two of the largest commerc...\n",
       "4785    \\n\\n\\n\\n\\n\\n\\n\\n\\n\\n\\n\\n\\n \\nHELSINKI — China ...\n",
       "5182    \\n\\n\\n\\n\\n\\nSAN FRANCISCO — Morpheus Space is ...\n",
       "5679                                                  NaN\n",
       "5905                                                  NaN\n",
       "6280    \\n\\n\\nHELSINKI, Finland — China launched twice...\n",
       "6328    \\n\\n\\nWARSAW, Poland — The European Commission...\n",
       "7000    \\n\\n\\n\\n\\n\\nThis article originally ran in the...\n",
       "7328                                                  NaN\n",
       "7906                                                  NaN\n",
       "Name: content, dtype: object"
      ]
     },
     "execution_count": 11,
     "metadata": {},
     "output_type": "execute_result"
    }
   ],
   "source": [
    "# Let's check what we've got. \n",
    "# Note that we aren't doing any preprocessing right now; spaCy will take care of that later.\n",
    "\n",
    "df.loc[content_nan_indices, 'content'][:15]"
   ]
  },
  {
   "cell_type": "code",
   "execution_count": 12,
   "id": "ccaa828c",
   "metadata": {
    "execution": {
     "iopub.execute_input": "2022-06-16T15:19:59.045839Z",
     "iopub.status.busy": "2022-06-16T15:19:59.045472Z",
     "iopub.status.idle": "2022-06-16T15:19:59.060561Z",
     "shell.execute_reply": "2022-06-16T15:19:59.059927Z"
    },
    "papermill": {
     "duration": 0.041883,
     "end_time": "2022-06-16T15:19:59.062196",
     "exception": false,
     "start_time": "2022-06-16T15:19:59.020313",
     "status": "completed"
    },
    "tags": []
   },
   "outputs": [
    {
     "data": {
      "text/plain": [
       "title            0\n",
       "url              0\n",
       "content         31\n",
       "author           0\n",
       "date             0\n",
       "postexcerpt    134\n",
       "dtype: int64"
      ]
     },
     "execution_count": 12,
     "metadata": {},
     "output_type": "execute_result"
    }
   ],
   "source": [
    "df.isna().sum()"
   ]
  },
  {
   "cell_type": "code",
   "execution_count": 13,
   "id": "8eccae28",
   "metadata": {
    "execution": {
     "iopub.execute_input": "2022-06-16T15:19:59.110556Z",
     "iopub.status.busy": "2022-06-16T15:19:59.110000Z",
     "iopub.status.idle": "2022-06-16T15:19:59.123322Z",
     "shell.execute_reply": "2022-06-16T15:19:59.122619Z"
    },
    "papermill": {
     "duration": 0.039831,
     "end_time": "2022-06-16T15:19:59.125231",
     "exception": false,
     "start_time": "2022-06-16T15:19:59.085400",
     "status": "completed"
    },
    "tags": []
   },
   "outputs": [],
   "source": [
    "#Drop the NaNs\n",
    "\n",
    "df.dropna(axis = 0, subset = ['content'], inplace = True)"
   ]
  },
  {
   "cell_type": "code",
   "execution_count": 14,
   "id": "a21a41d5",
   "metadata": {
    "execution": {
     "iopub.execute_input": "2022-06-16T15:19:59.173814Z",
     "iopub.status.busy": "2022-06-16T15:19:59.173357Z",
     "iopub.status.idle": "2022-06-16T15:19:59.177082Z",
     "shell.execute_reply": "2022-06-16T15:19:59.176203Z"
    },
    "papermill": {
     "duration": 0.030063,
     "end_time": "2022-06-16T15:19:59.178908",
     "exception": false,
     "start_time": "2022-06-16T15:19:59.148845",
     "status": "completed"
    },
    "tags": []
   },
   "outputs": [],
   "source": [
    "#Let's do some visualizations"
   ]
  },
  {
   "cell_type": "code",
   "execution_count": 15,
   "id": "a77bba32",
   "metadata": {
    "execution": {
     "iopub.execute_input": "2022-06-16T15:19:59.227171Z",
     "iopub.status.busy": "2022-06-16T15:19:59.226791Z",
     "iopub.status.idle": "2022-06-16T15:19:59.500701Z",
     "shell.execute_reply": "2022-06-16T15:19:59.499668Z"
    },
    "papermill": {
     "duration": 0.300729,
     "end_time": "2022-06-16T15:19:59.503126",
     "exception": false,
     "start_time": "2022-06-16T15:19:59.202397",
     "status": "completed"
    },
    "tags": []
   },
   "outputs": [
    {
     "data": {
      "image/png": "[encoded data removed]",
      "text/plain": [
       "<Figure size 792x504 with 1 Axes>"
      ]
     },
     "metadata": {},
     "output_type": "display_data"
    }
   ],
   "source": [
    "plt.figure(figsize = (11, 7))\n",
    "sns.countplot(x = 'author', data = df, order = df['author'].value_counts()[:5].index, palette = 'rocket')\n",
    "plt.xticks(size = 13, rotation = 33)\n",
    "plt.xlabel('Author', size = 14)\n",
    "plt.ylabel('Number of articles', size = 14)\n",
    "plt.title('Top five authors by article count', size = 15)\n",
    "plt.show()"
   ]
  },
  {
   "cell_type": "code",
   "execution_count": 16,
   "id": "9e060c0b",
   "metadata": {
    "execution": {
     "iopub.execute_input": "2022-06-16T15:19:59.552500Z",
     "iopub.status.busy": "2022-06-16T15:19:59.551512Z",
     "iopub.status.idle": "2022-06-16T15:19:59.813026Z",
     "shell.execute_reply": "2022-06-16T15:19:59.812258Z"
    },
    "papermill": {
     "duration": 0.287912,
     "end_time": "2022-06-16T15:19:59.814826",
     "exception": false,
     "start_time": "2022-06-16T15:19:59.526914",
     "status": "completed"
    },
    "tags": []
   },
   "outputs": [
    {
     "data": {
      "image/png": "[encoded data removed]",
      "text/plain": [
       "<Figure size 792x504 with 1 Axes>"
      ]
     },
     "metadata": {},
     "output_type": "display_data"
    }
   ],
   "source": [
    "plt.figure(figsize = (11, 7))\n",
    "sns.countplot(x = 'date', data = df, order = df['date'].value_counts()[:10].index, palette = 'rocket')\n",
    "plt.xticks(size = 10, rotation = 90)\n",
    "plt.xlabel('Date', size = 14)\n",
    "plt.ylabel('Number of articles', size = 14)\n",
    "plt.title('Top 10 days by article count', size = 15)\n",
    "plt.show()"
   ]
  },
  {
   "cell_type": "code",
   "execution_count": 17,
   "id": "a6b4b37c",
   "metadata": {
    "execution": {
     "iopub.execute_input": "2022-06-16T15:19:59.865512Z",
     "iopub.status.busy": "2022-06-16T15:19:59.864933Z",
     "iopub.status.idle": "2022-06-16T15:19:59.871934Z",
     "shell.execute_reply": "2022-06-16T15:19:59.871122Z"
    },
    "papermill": {
     "duration": 0.034763,
     "end_time": "2022-06-16T15:19:59.873805",
     "exception": false,
     "start_time": "2022-06-16T15:19:59.839042",
     "status": "completed"
    },
    "tags": []
   },
   "outputs": [
    {
     "name": "stdout",
     "output_type": "stream",
     "text": [
      "Shuttle Atlantis Returns from Last Scheduled Mission\n",
      "Shuttle Retirement Slipping into 2011\n",
      "NASA Packs Up Robot Helper for International Space Station Trip\n",
      "NASA Takes Over after Japan Evacuates ISS Control Center [Discovery News]\n",
      "Latest $1.5B in JWST Cost Overruns Imperils Other High-priority Projects\n",
      "Satellite Imagery Provides Real-life Mountains for Snowboarding Video Game [Ars Technica]\n",
      "Japan Clears H-2A Rocket for Sept. 17 Spy Sat Launch\n",
      "Jody Singer, SLS Deputy Program Manager, NASA Marshall Space Flight Center\n",
      "Prices Remain Stable in Resurgent Latin American Satellite Market\n",
      "Falcon 9 Hardware Arrives at the Cape [Florida Today]\n",
      "Boeing Should Lose $271 Million in Rocket Billings, Audit Says [Bloomberg]\n",
      "Extra Shuttle Flight in Question [WFTV]\n",
      "Giffords To Attend Endeavor Launch if Health Allows [The Hill]\n",
      "USA Engineer Dies from Shuttle Launch Pad Fall [Orlando Sentinel]\n",
      "Bolden Balks at Congressionally Designed Rocket [SpacePolicyOnline.com]\n",
      "Musk Answers Doubts about Low, Low Launch Prices [SpaceX.com]\n",
      "Russian Officials: Rocket Engine Maker Lost $32M with Half-cost Sales to U.S. [RIA Novosti]\n",
      "Russia Grounds Proton-M after Botched Launch [AFP]\n",
      "Virgin Targets First Launch in Next 12 Months [AFP]\n",
      "Unlike Constellation, New Rocket To Be ‘Disciplined,’ Bolden Says [Houston Chronicle]\n",
      "China Launches First Space Station Module [Xinhua]\n",
      "Summer Test Flight Planned for Sierra Nevada Space Taxi [Reuters]\n",
      "SpaceX: Pentagon’s Planned Bulk Rocket Purchase is Bad Deal [Florida Today]\n",
      "South Korea, Russia Fail To Agree on Cause of Rocket Launch Failure [Yonhap]\n",
      "Plutonium Protest Organizers Expect No-shows for MSL Launch [Florida Today]\n",
      "NASA Should Get Moving on Commercial Crew, ULA Chief Says [Florida Today]\n",
      "Japan Faces Uphill Battle To Win Commercial Satellite Launch Business [The Japan Times]\n",
      "Satellite Experts Find North Korea Lying About Launch [Wired]\n",
      "Space Launch System is a threat to JSC, Texas jobs [Houston Chronicle]\n",
      "Kazakhstan Gives Russia Permission for Baikonur Launches [RIA Novosti]\n"
     ]
    }
   ],
   "source": [
    "# It looks like there were an unusually high number of articles on October 1, 2011. \n",
    "# Let's take a look at some of these.\n",
    "\n",
    "for i in df[df['date'] == 'October 1, 2011']['title'][:30]:\n",
    "    print(i)"
   ]
  },
  {
   "cell_type": "code",
   "execution_count": 18,
   "id": "8f3d8978",
   "metadata": {
    "execution": {
     "iopub.execute_input": "2022-06-16T15:19:59.924385Z",
     "iopub.status.busy": "2022-06-16T15:19:59.923861Z",
     "iopub.status.idle": "2022-06-16T15:19:59.939272Z",
     "shell.execute_reply": "2022-06-16T15:19:59.938494Z"
    },
    "papermill": {
     "duration": 0.04323,
     "end_time": "2022-06-16T15:19:59.941409",
     "exception": false,
     "start_time": "2022-06-16T15:19:59.898179",
     "status": "completed"
    },
    "tags": []
   },
   "outputs": [],
   "source": [
    "df['article_len'] = df['content'].apply(lambda x: len(x))"
   ]
  },
  {
   "cell_type": "code",
   "execution_count": 19,
   "id": "01ecaf1f",
   "metadata": {
    "execution": {
     "iopub.execute_input": "2022-06-16T15:19:59.992658Z",
     "iopub.status.busy": "2022-06-16T15:19:59.992042Z",
     "iopub.status.idle": "2022-06-16T15:20:01.266207Z",
     "shell.execute_reply": "2022-06-16T15:20:01.265190Z"
    },
    "papermill": {
     "duration": 1.302544,
     "end_time": "2022-06-16T15:20:01.268562",
     "exception": false,
     "start_time": "2022-06-16T15:19:59.966018",
     "status": "completed"
    },
    "tags": []
   },
   "outputs": [
    {
     "data": {
      "image/png": "[encoded data removed]",
      "text/plain": [
       "<Figure size 792x504 with 1 Axes>"
      ]
     },
     "metadata": {},
     "output_type": "display_data"
    }
   ],
   "source": [
    "#We want to check if there are some distinct groups of articles based on length, like short news and longer research articles, for instance.\n",
    "\n",
    "plt.figure(figsize = (11, 7))\n",
    "sns.histplot(df['article_len'], bins = 500)\n",
    "plt.xlabel('Article char length', size = 14)\n",
    "plt.ylabel('Number of articles', size = 14)\n",
    "plt.title('Article length', size = 15)\n",
    "plt.show()"
   ]
  },
  {
   "cell_type": "code",
   "execution_count": 20,
   "id": "92e4185a",
   "metadata": {
    "execution": {
     "iopub.execute_input": "2022-06-16T15:20:01.320158Z",
     "iopub.status.busy": "2022-06-16T15:20:01.319702Z",
     "iopub.status.idle": "2022-06-16T15:20:01.342984Z",
     "shell.execute_reply": "2022-06-16T15:20:01.341585Z"
    },
    "papermill": {
     "duration": 0.051485,
     "end_time": "2022-06-16T15:20:01.345292",
     "exception": false,
     "start_time": "2022-06-16T15:20:01.293807",
     "status": "completed"
    },
    "tags": []
   },
   "outputs": [
    {
     "name": "stdout",
     "output_type": "stream",
     "text": [
      "The latest COVID-19 news and event updates for the global space industry 80006\n",
      "SpaceNews 2015 Year in Review 42818\n",
      "2011: The Year in Review 32953\n",
      "2010: The Year in Review 31180\n",
      "SpaceNews 2014 Year in Review 30121\n",
      "The SpaceNews Awards 2021: Meet the nine winners 29138\n",
      "Year Begins, Ends with Future of Human Spaceflight Up in Air 28938\n",
      "The 2020 SpaceNews Awards winners 27847\n",
      "2010-2019: The decade in space 25597\n"
     ]
    }
   ],
   "source": [
    "#Let's get an idea of what the longer articles are about. Naturally enough, they seem to be summary articles.\n",
    "\n",
    "for i in df[df['article_len'] > 25000].sort_values(by = 'article_len', ascending = False)['title']:\n",
    "    print(i, df[df['title'] == i]['article_len'].item())"
   ]
  },
  {
   "cell_type": "code",
   "execution_count": 21,
   "id": "39c97dd5",
   "metadata": {
    "execution": {
     "iopub.execute_input": "2022-06-16T15:20:01.397940Z",
     "iopub.status.busy": "2022-06-16T15:20:01.397279Z",
     "iopub.status.idle": "2022-06-16T15:20:01.402867Z",
     "shell.execute_reply": "2022-06-16T15:20:01.401948Z"
    },
    "papermill": {
     "duration": 0.033863,
     "end_time": "2022-06-16T15:20:01.404804",
     "exception": false,
     "start_time": "2022-06-16T15:20:01.370941",
     "status": "completed"
    },
    "tags": []
   },
   "outputs": [],
   "source": [
    "#Print the contents of N random articles from the dataset to get an idea of the text preprocessing steps\n",
    "\n",
    "def show_random_articles(data, n = 10, seed = 42):\n",
    "    np.random.seed(seed)\n",
    "    random_indices = np.random.randint(0, len(data) - 1, n)\n",
    "    for i in random_indices:\n",
    "        print('Article index: {}'.format(i))\n",
    "        print()\n",
    "        print(data.loc[i, 'content'])\n",
    "        print('=' * 100)"
   ]
  },
  {
   "cell_type": "code",
   "execution_count": 22,
   "id": "505d2ad1",
   "metadata": {
    "execution": {
     "iopub.execute_input": "2022-06-16T15:20:01.457990Z",
     "iopub.status.busy": "2022-06-16T15:20:01.457357Z",
     "iopub.status.idle": "2022-06-16T15:20:01.462972Z",
     "shell.execute_reply": "2022-06-16T15:20:01.461424Z"
    },
    "papermill": {
     "duration": 0.034995,
     "end_time": "2022-06-16T15:20:01.465377",
     "exception": false,
     "start_time": "2022-06-16T15:20:01.430382",
     "status": "completed"
    },
    "tags": []
   },
   "outputs": [
    {
     "name": "stdout",
     "output_type": "stream",
     "text": [
      "Article index: 15795\n",
      "\n",
      "\n",
      " \n",
      " \n",
      " The first primary mirror segment of NASA’s James Webb Space Telescope (JWST) has been polished to its required specifications as measured at operational cryogenic temperatures, setting the stage for polishing of the telescope’s remaining 18 flight-mirror segments in preparation for launch in June 2014, NASA said in a March 2 press release. “Many predicted it would take us multiple iterations to successfully polish these mirror segments to achieve the correct optical prescription at the telescope’s operating temperatures, but we did it on our first try,” said Scott Willoughby, JWST program manager at Redondo Beach, Calif.-based  Northrop Grumman Aerospace Systems , which is leading the observatory’s design and development for NASA’s Goddard Space Flight Center in Greenbelt, Md. “All our budgets and schedules are based on this, and it’s a confirmation of the basic plan we proposed 10 years ago.” JWST, a joint effort by NASA, the European Space Agency and the Canadian Space Agency, is a next-generation space observatory that will explore deep-space phenomena from distant galaxies to nearby planets and starts. Lee Feinberg, Webb’s optical telescope element manager at Goddard, said completing the polishing of the primary mirror segment is “a hugely significant milestone for the Webb telescope project that demonstrates that our primary mirror segments can be completed on schedule while meeting the performance necessary for science.” Cryogenic polishing, also known as cryo-null figuring, ensures that when the mirror reaches extremely cold operating temperatures in space, its shape will conform to the exact optical specification required to collect accurate infrared images of distant stars and galaxies, according to the news release. The engineering development mirror, which will be used as a flight spare, was cryo-tested in the X-Ray and Cryogenic Facility at NASA’s Marshall Space Flight Center in Huntsville, Ala., while mirror polishing was performed at Richmond, Calif.-based Tinsley Laboratories. Additional testing is planned as work continues to assemble the telescope segments. “For validation purposes, we’re planning four sets of completely different cross checks and verification tests to authenticate the outcome of the mirror cryotests,” said Scott Texter, JWST optical telescope element manager at Northrop Grumman. “If any discrepancies surface, we can then investigate and reverify.” Boulder, Colo.-based Ball Aerospace & Technologies Corp. will conduct separate verification tests using different computer-generated holographic null tools, while Goddard will use its own testing equipment and measurement methods in its clean room. Testing at NASA’s Johnson Space Center in Houston will use a reflective null tool manufactured by optical integration and test partner ITT, and Tinsley Labs will make measurements using its own independent method of calibrating its computer-generated holographic null tools, according to the release.\n",
      "====================================================================================================\n",
      "Article index: 860\n",
      "\n",
      "SEOUL, South Korea — An aerospace affiliate of South Korean conglomerate Hanwha Group will develop a small satellite launcher in cooperation with the Korea Aerospace Research Institute (KARI), in the group’s latest effort to diversify its business portfolio in the space sector.  Hanwha Aerospace  unveiled the plan  Dec. 6, saying the two organizations recently had a joint meeting for preliminary requirement review on their envisioned rocket. While the rocket will be designed to deliver up to 500 kilograms of payload to low-Earth-orbit, other details, including budget, development timetable and required technologies, remain undecided, Hanwha Aerospace spokesman Danny Oh told  SpaceNews. “What’s decided is that we will develop a satellite launcher,” Oh said. “We are in the beginning step. More details will emerge as the project moves forward.”  Hanwha said it currently focuses its research on conceptual system design, cost-benefit analysis and required technologies as part of efforts to develop a small satellite launcher that is “sustainable and economically competitive.” Research outcomes will be discussed in a system requirement review meeting between Hanwha and KARI, slated for March, according to the company. “We will utilize our performance in various fields to create an economical and reliable system solution for the launch of small projectiles,” Hanwha Aerospace CEO Shin Hyun-woo said in a  Dec. 6 statement. Hanwha is the most committed conglomerate to space business in South Korea, with a decades-long heritage in  solid-propellant missile development  and aggressive investments in satellite and antenna makers at home and abroad. With the heritage, Hanwha Aerospace developed  core engine and valve parts of KSLV-2,  South Korea’s first homemade rocket that had its maiden flight Oct. 21. Hanwha has expanded its satellite business by acquiring a controlling stake in domestic satellite manufacturer  Satrec Initiative  and British phased array antenna-maker  Phasor Solutions . In August,  Hanwha moved into the satellite broadband business by purchasing  an 8.8 percent stake in OneWeb  for $300 million, winning a seat on the British company’s board of directors. Hanwha is also interested in building and operating a constellation. In March, Hanwha Systems, the group’s defense and information technology arm, announced a plan to build  a constellation of 2,000 satellites in low Earth orbit by 2030  to provide connectivity to urban cargo-delivery drones and passenger airplanes. \n",
      "====================================================================================================\n"
     ]
    }
   ],
   "source": [
    "show_random_articles(df, 2)"
   ]
  },
  {
   "cell_type": "code",
   "execution_count": 23,
   "id": "325e1153",
   "metadata": {
    "execution": {
     "iopub.execute_input": "2022-06-16T15:20:01.518668Z",
     "iopub.status.busy": "2022-06-16T15:20:01.517743Z",
     "iopub.status.idle": "2022-06-16T15:20:01.524068Z",
     "shell.execute_reply": "2022-06-16T15:20:01.523051Z"
    },
    "papermill": {
     "duration": 0.03476,
     "end_time": "2022-06-16T15:20:01.525927",
     "exception": false,
     "start_time": "2022-06-16T15:20:01.491167",
     "status": "completed"
    },
    "tags": []
   },
   "outputs": [],
   "source": [
    "# Doing text preprocessing. I think the code is pretty self-explanatory. \n",
    "# Alternatively, you might consider adding 'ORG', 'LOC', 'TIME', 'CARDINAL', 'PERCENT', and 'QUANTITY' entity types.  \n",
    "\n",
    "def process_content(x):\n",
    "    tokenized = [str(token.lemma_).lower() for token in nlp(x) if token.pos_ != 'PROPN' and\\\n",
    "                 token.ent_type_ not in ['GPE', 'DATE', 'NORP', 'MONEY', 'ORDINAL', 'PERSON'] and\\\n",
    "                 token.is_stop == False and\\\n",
    "                 token.text.isalpha() == True and\\\n",
    "                 len(str(token.lemma_)) > 3]\n",
    "    clean_str = ' '.join(tokenized)\n",
    "    return clean_str"
   ]
  },
  {
   "cell_type": "code",
   "execution_count": 24,
   "id": "5e8aa324",
   "metadata": {
    "execution": {
     "iopub.execute_input": "2022-06-16T15:20:01.577576Z",
     "iopub.status.busy": "2022-06-16T15:20:01.577219Z",
     "iopub.status.idle": "2022-06-16T15:20:01.581300Z",
     "shell.execute_reply": "2022-06-16T15:20:01.580464Z"
    },
    "papermill": {
     "duration": 0.032059,
     "end_time": "2022-06-16T15:20:01.583032",
     "exception": false,
     "start_time": "2022-06-16T15:20:01.550973",
     "status": "completed"
    },
    "tags": []
   },
   "outputs": [],
   "source": [
    "df.reset_index(drop = True, inplace = True)"
   ]
  },
  {
   "cell_type": "code",
   "execution_count": 25,
   "id": "9a75122b",
   "metadata": {
    "execution": {
     "iopub.execute_input": "2022-06-16T15:20:01.634849Z",
     "iopub.status.busy": "2022-06-16T15:20:01.634237Z",
     "iopub.status.idle": "2022-06-16T15:48:13.173342Z",
     "shell.execute_reply": "2022-06-16T15:48:13.169991Z"
    },
    "papermill": {
     "duration": 1691.568108,
     "end_time": "2022-06-16T15:48:13.176139",
     "exception": false,
     "start_time": "2022-06-16T15:20:01.608031",
     "status": "completed"
    },
    "scrolled": true,
    "tags": []
   },
   "outputs": [
    {
     "name": "stderr",
     "output_type": "stream",
     "text": [
      "100%|██████████| 17443/17443 [28:11<00:00, 10.31it/s]\n"
     ]
    }
   ],
   "source": [
    "proc_content = []\n",
    "\n",
    "for i in tqdm(range(df.shape[0])):\n",
    "    proc_content.append(process_content(df.loc[i, 'content']))"
   ]
  },
  {
   "cell_type": "code",
   "execution_count": 26,
   "id": "73c5a968",
   "metadata": {
    "execution": {
     "iopub.execute_input": "2022-06-16T15:48:14.160521Z",
     "iopub.status.busy": "2022-06-16T15:48:14.159805Z",
     "iopub.status.idle": "2022-06-16T15:48:14.178762Z",
     "shell.execute_reply": "2022-06-16T15:48:14.177742Z"
    },
    "papermill": {
     "duration": 0.482621,
     "end_time": "2022-06-16T15:48:14.180923",
     "exception": false,
     "start_time": "2022-06-16T15:48:13.698302",
     "status": "completed"
    },
    "tags": []
   },
   "outputs": [],
   "source": [
    "df['content_clean'] = proc_content"
   ]
  },
  {
   "cell_type": "code",
   "execution_count": 27,
   "id": "48c9c78c",
   "metadata": {
    "execution": {
     "iopub.execute_input": "2022-06-16T15:48:15.157879Z",
     "iopub.status.busy": "2022-06-16T15:48:15.157481Z",
     "iopub.status.idle": "2022-06-16T15:48:15.169467Z",
     "shell.execute_reply": "2022-06-16T15:48:15.168734Z"
    },
    "papermill": {
     "duration": 0.475173,
     "end_time": "2022-06-16T15:48:15.171217",
     "exception": false,
     "start_time": "2022-06-16T15:48:14.696044",
     "status": "completed"
    },
    "tags": []
   },
   "outputs": [
    {
     "data": {
      "text/plain": [
       "0    cash strap operator announce plan connectivity...\n",
       "1    announce strategic partnership aerospace manuf...\n",
       "2    rocket arrive spaceport gear send space statio...\n",
       "3    appear nation launch satellite base maritime d...\n",
       "4    member hearing planetary science decadal surve...\n",
       "Name: content_clean, dtype: object"
      ]
     },
     "execution_count": 27,
     "metadata": {},
     "output_type": "execute_result"
    }
   ],
   "source": [
    "df['content_clean'][:5]"
   ]
  },
  {
   "cell_type": "code",
   "execution_count": 28,
   "id": "be2fb72a",
   "metadata": {
    "execution": {
     "iopub.execute_input": "2022-06-16T15:48:16.173224Z",
     "iopub.status.busy": "2022-06-16T15:48:16.172588Z",
     "iopub.status.idle": "2022-06-16T15:48:16.196148Z",
     "shell.execute_reply": "2022-06-16T15:48:16.195182Z"
    },
    "papermill": {
     "duration": 0.502769,
     "end_time": "2022-06-16T15:48:16.198174",
     "exception": false,
     "start_time": "2022-06-16T15:48:15.695405",
     "status": "completed"
    },
    "tags": []
   },
   "outputs": [
    {
     "data": {
      "text/plain": [
       "title              0\n",
       "url                0\n",
       "content            0\n",
       "author             0\n",
       "date               0\n",
       "postexcerpt      133\n",
       "article_len        0\n",
       "content_clean      0\n",
       "dtype: int64"
      ]
     },
     "execution_count": 28,
     "metadata": {},
     "output_type": "execute_result"
    }
   ],
   "source": [
    "#Check for NaNs\n",
    "\n",
    "df.isna().sum()"
   ]
  },
  {
   "cell_type": "code",
   "execution_count": 29,
   "id": "ad758a5b",
   "metadata": {
    "execution": {
     "iopub.execute_input": "2022-06-16T15:48:17.178143Z",
     "iopub.status.busy": "2022-06-16T15:48:17.177743Z",
     "iopub.status.idle": "2022-06-16T15:48:17.210639Z",
     "shell.execute_reply": "2022-06-16T15:48:17.209617Z"
    },
    "papermill": {
     "duration": 0.559973,
     "end_time": "2022-06-16T15:48:17.212785",
     "exception": false,
     "start_time": "2022-06-16T15:48:16.652812",
     "status": "completed"
    },
    "tags": []
   },
   "outputs": [],
   "source": [
    "#In case there are any NaNs or empty strings:\n",
    "\n",
    "df.dropna(axis = 0, subset = ['content_clean'], inplace = True)\n",
    "df = df[df['content_clean'] != '']\n",
    "df.reset_index(drop = True, inplace = True)"
   ]
  },
  {
   "cell_type": "code",
   "execution_count": 30,
   "id": "b958f433",
   "metadata": {
    "execution": {
     "iopub.execute_input": "2022-06-16T15:48:18.131127Z",
     "iopub.status.busy": "2022-06-16T15:48:18.130728Z",
     "iopub.status.idle": "2022-06-16T15:48:18.137289Z",
     "shell.execute_reply": "2022-06-16T15:48:18.136720Z"
    },
    "papermill": {
     "duration": 0.469269,
     "end_time": "2022-06-16T15:48:18.139001",
     "exception": false,
     "start_time": "2022-06-16T15:48:17.669732",
     "status": "completed"
    },
    "tags": []
   },
   "outputs": [
    {
     "data": {
      "text/plain": [
       "title            Sed Donec Curabitur Ullamcorper Condi Lorum Ipsum\n",
       "url              https://spacenews.com/sed-donec-curabitur-ulla...\n",
       "content          Duis ornare neque vitae turpis consequat ornar...\n",
       "author                                             SpaceNews Staff\n",
       "date                                                 June 13, 2012\n",
       "postexcerpt      Nulla facilisi. Nulla non nisi vitae metus iac...\n",
       "article_len                                                   1203\n",
       "content_clean    ornare neque vita turpis consequat ornare done...\n",
       "Name: 13588, dtype: object"
      ]
     },
     "execution_count": 30,
     "metadata": {},
     "output_type": "execute_result"
    }
   ],
   "source": [
    "#Also, we have a weird one here:\n",
    "\n",
    "df.loc[13588, :]"
   ]
  },
  {
   "cell_type": "code",
   "execution_count": 31,
   "id": "a4c76c94",
   "metadata": {
    "execution": {
     "iopub.execute_input": "2022-06-16T15:48:19.126101Z",
     "iopub.status.busy": "2022-06-16T15:48:19.125306Z",
     "iopub.status.idle": "2022-06-16T15:48:19.137501Z",
     "shell.execute_reply": "2022-06-16T15:48:19.136722Z"
    },
    "papermill": {
     "duration": 0.476986,
     "end_time": "2022-06-16T15:48:19.139553",
     "exception": false,
     "start_time": "2022-06-16T15:48:18.662567",
     "status": "completed"
    },
    "tags": []
   },
   "outputs": [],
   "source": [
    "#Let's get rid of it\n",
    "\n",
    "df.drop(13588, inplace = True)"
   ]
  },
  {
   "cell_type": "code",
   "execution_count": 32,
   "id": "5804786f",
   "metadata": {
    "execution": {
     "iopub.execute_input": "2022-06-16T15:48:20.119988Z",
     "iopub.status.busy": "2022-06-16T15:48:20.118423Z",
     "iopub.status.idle": "2022-06-16T15:48:20.124125Z",
     "shell.execute_reply": "2022-06-16T15:48:20.123252Z"
    },
    "papermill": {
     "duration": 0.467214,
     "end_time": "2022-06-16T15:48:20.126053",
     "exception": false,
     "start_time": "2022-06-16T15:48:19.658839",
     "status": "completed"
    },
    "tags": []
   },
   "outputs": [],
   "source": [
    "df.reset_index(drop = True, inplace = True)"
   ]
  },
  {
   "cell_type": "code",
   "execution_count": 33,
   "id": "4159c84d",
   "metadata": {
    "execution": {
     "iopub.execute_input": "2022-06-16T15:48:21.107827Z",
     "iopub.status.busy": "2022-06-16T15:48:21.107133Z",
     "iopub.status.idle": "2022-06-16T15:48:24.023627Z",
     "shell.execute_reply": "2022-06-16T15:48:24.022787Z"
    },
    "papermill": {
     "duration": 3.441,
     "end_time": "2022-06-16T15:48:24.026010",
     "exception": false,
     "start_time": "2022-06-16T15:48:20.585010",
     "status": "completed"
    },
    "tags": []
   },
   "outputs": [],
   "source": [
    "#Get the weights of tf-idf vectorizer\n",
    "\n",
    "vectorizer = TfidfVectorizer()\n",
    "\n",
    "vectorized = vectorizer.fit_transform(df['content_clean'])\n",
    "\n",
    "weights = dict(zip(vectorizer.get_feature_names_out(), vectorizer.idf_))"
   ]
  },
  {
   "cell_type": "code",
   "execution_count": 34,
   "id": "b98b6b96",
   "metadata": {
    "execution": {
     "iopub.execute_input": "2022-06-16T15:48:24.944357Z",
     "iopub.status.busy": "2022-06-16T15:48:24.943718Z",
     "iopub.status.idle": "2022-06-16T15:48:25.686679Z",
     "shell.execute_reply": "2022-06-16T15:48:25.685620Z"
    },
    "papermill": {
     "duration": 1.204297,
     "end_time": "2022-06-16T15:48:25.689388",
     "exception": false,
     "start_time": "2022-06-16T15:48:24.485091",
     "status": "completed"
    },
    "tags": []
   },
   "outputs": [],
   "source": [
    "#Tokenize the clean content\n",
    "\n",
    "list_split = []\n",
    "\n",
    "for i in df['content_clean']:\n",
    "    list_split.append(i.split())"
   ]
  },
  {
   "cell_type": "code",
   "execution_count": 35,
   "id": "6cd77cab",
   "metadata": {
    "execution": {
     "iopub.execute_input": "2022-06-16T15:48:26.693190Z",
     "iopub.status.busy": "2022-06-16T15:48:26.692123Z",
     "iopub.status.idle": "2022-06-16T15:52:11.846196Z",
     "shell.execute_reply": "2022-06-16T15:52:11.845212Z"
    },
    "papermill": {
     "duration": 225.619819,
     "end_time": "2022-06-16T15:52:11.848576",
     "exception": false,
     "start_time": "2022-06-16T15:48:26.228757",
     "status": "completed"
    },
    "tags": []
   },
   "outputs": [],
   "source": [
    "# Train your own Word2Vec model with 100 dimensions (it works better than 300 in this case). \n",
    "# I found that it renders better results than some pre-trained models like GloVe-Wiki-GigaWord-50 or Word2Vec-Google-News-300.\n",
    "\n",
    "w2v_model = Word2Vec(list_split, vector_size = 100, epochs = 30, window = 5, workers = 1, seed = 10)"
   ]
  },
  {
   "cell_type": "code",
   "execution_count": 36,
   "id": "01299ea6",
   "metadata": {
    "execution": {
     "iopub.execute_input": "2022-06-16T15:52:12.834596Z",
     "iopub.status.busy": "2022-06-16T15:52:12.833953Z",
     "iopub.status.idle": "2022-06-16T15:52:12.839277Z",
     "shell.execute_reply": "2022-06-16T15:52:12.838043Z"
    },
    "papermill": {
     "duration": 0.532642,
     "end_time": "2022-06-16T15:52:12.841695",
     "exception": false,
     "start_time": "2022-06-16T15:52:12.309053",
     "status": "completed"
    },
    "tags": []
   },
   "outputs": [
    {
     "name": "stdout",
     "output_type": "stream",
     "text": [
      "Doc count: 17434\n",
      "Total words in corpus: 4085894\n"
     ]
    }
   ],
   "source": [
    "print('Doc count: {}'.format(w2v_model.corpus_count))\n",
    "print('Total words in corpus: {}'.format(w2v_model.corpus_total_words))"
   ]
  },
  {
   "cell_type": "code",
   "execution_count": 37,
   "id": "04b0378a",
   "metadata": {
    "execution": {
     "iopub.execute_input": "2022-06-16T15:52:13.820545Z",
     "iopub.status.busy": "2022-06-16T15:52:13.819920Z",
     "iopub.status.idle": "2022-06-16T15:52:13.838606Z",
     "shell.execute_reply": "2022-06-16T15:52:13.837527Z"
    },
    "papermill": {
     "duration": 0.540685,
     "end_time": "2022-06-16T15:52:13.840551",
     "exception": false,
     "start_time": "2022-06-16T15:52:13.299866",
     "status": "completed"
    },
    "tags": []
   },
   "outputs": [
    {
     "data": {
      "text/plain": [
       "[('scientific', 0.6919705867767334),\n",
       " ('astrophysic', 0.6461089253425598),\n",
       " ('heliophysic', 0.6432991027832031),\n",
       " ('geologist', 0.6024591326713562),\n",
       " ('scientist', 0.5654076933860779),\n",
       " ('astrobiology', 0.5636880993843079),\n",
       " ('europa', 0.558239758014679),\n",
       " ('exploration', 0.5281888842582703),\n",
       " ('astronomy', 0.510421633720398),\n",
       " ('aeronautics', 0.48696139454841614)]"
      ]
     },
     "execution_count": 37,
     "metadata": {},
     "output_type": "execute_result"
    }
   ],
   "source": [
    "w2v_model.wv.most_similar('science')"
   ]
  },
  {
   "cell_type": "code",
   "execution_count": 38,
   "id": "dcdcad54",
   "metadata": {
    "execution": {
     "iopub.execute_input": "2022-06-16T15:52:14.812178Z",
     "iopub.status.busy": "2022-06-16T15:52:14.811780Z",
     "iopub.status.idle": "2022-06-16T15:52:14.822016Z",
     "shell.execute_reply": "2022-06-16T15:52:14.821147Z"
    },
    "papermill": {
     "duration": 0.46999,
     "end_time": "2022-06-16T15:52:14.824716",
     "exception": false,
     "start_time": "2022-06-16T15:52:14.354726",
     "status": "completed"
    },
    "tags": []
   },
   "outputs": [
    {
     "data": {
      "text/plain": [
       "[('geostationary', 0.6884396076202393),\n",
       " ('constellation', 0.6758684515953064),\n",
       " ('geosynchronous', 0.5684892535209656),\n",
       " ('band', 0.5647974014282227),\n",
       " ('condosat', 0.5599485635757446),\n",
       " ('orbit', 0.5549192428588867),\n",
       " ('iridium', 0.5500178337097168),\n",
       " ('fleet', 0.5414356589317322),\n",
       " ('telecommunication', 0.5299381613731384),\n",
       " ('spacecraft', 0.5155335664749146)]"
      ]
     },
     "execution_count": 38,
     "metadata": {},
     "output_type": "execute_result"
    }
   ],
   "source": [
    "w2v_model.wv.most_similar('satellite')"
   ]
  },
  {
   "cell_type": "code",
   "execution_count": 39,
   "id": "ba0283c3",
   "metadata": {
    "execution": {
     "iopub.execute_input": "2022-06-16T15:52:15.858274Z",
     "iopub.status.busy": "2022-06-16T15:52:15.857871Z",
     "iopub.status.idle": "2022-06-16T15:52:15.864053Z",
     "shell.execute_reply": "2022-06-16T15:52:15.863166Z"
    },
    "papermill": {
     "duration": 0.462469,
     "end_time": "2022-06-16T15:52:15.865729",
     "exception": false,
     "start_time": "2022-06-16T15:52:15.403260",
     "status": "completed"
    },
    "tags": []
   },
   "outputs": [],
   "source": [
    "#We want to get sentence embeddings using the log of tf-idf weights multiplied by each word vector and then taking the mean of each sentence's word vectors.\n",
    "\n",
    "def sentence_vectors(x):\n",
    "    sent_vec = []\n",
    "    for token in x.split():\n",
    "        try:\n",
    "            sent_vec.append(np.log(weights[token])*w2v_model.wv[token])\n",
    "        except:\n",
    "            continue\n",
    "    return np.mean(sent_vec, axis = 0)"
   ]
  },
  {
   "cell_type": "code",
   "execution_count": 40,
   "id": "1c00e6d1",
   "metadata": {
    "execution": {
     "iopub.execute_input": "2022-06-16T15:52:16.861865Z",
     "iopub.status.busy": "2022-06-16T15:52:16.861050Z",
     "iopub.status.idle": "2022-06-16T15:52:44.342816Z",
     "shell.execute_reply": "2022-06-16T15:52:44.341847Z"
    },
    "papermill": {
     "duration": 28.023446,
     "end_time": "2022-06-16T15:52:44.345683",
     "exception": false,
     "start_time": "2022-06-16T15:52:16.322237",
     "status": "completed"
    },
    "tags": []
   },
   "outputs": [
    {
     "name": "stderr",
     "output_type": "stream",
     "text": [
      "100%|██████████| 17434/17434 [00:27<00:00, 634.61it/s]\n"
     ]
    }
   ],
   "source": [
    "#Get sentence embeddings\n",
    "\n",
    "sentences = []\n",
    "\n",
    "for i in tqdm(range(df.shape[0])):\n",
    "    sentences.append(sentence_vectors(df.loc[i, 'content_clean']))"
   ]
  },
  {
   "cell_type": "code",
   "execution_count": 41,
   "id": "e7b6f9c0",
   "metadata": {
    "execution": {
     "iopub.execute_input": "2022-06-16T15:52:45.355777Z",
     "iopub.status.busy": "2022-06-16T15:52:45.355403Z",
     "iopub.status.idle": "2022-06-16T15:52:45.364128Z",
     "shell.execute_reply": "2022-06-16T15:52:45.363232Z"
    },
    "papermill": {
     "duration": 0.550762,
     "end_time": "2022-06-16T15:52:45.365812",
     "exception": false,
     "start_time": "2022-06-16T15:52:44.815050",
     "status": "completed"
    },
    "tags": []
   },
   "outputs": [],
   "source": [
    "df['sent'] = sentences"
   ]
  },
  {
   "cell_type": "code",
   "execution_count": 42,
   "id": "61efe659",
   "metadata": {
    "execution": {
     "iopub.execute_input": "2022-06-16T15:52:46.304220Z",
     "iopub.status.busy": "2022-06-16T15:52:46.303843Z",
     "iopub.status.idle": "2022-06-16T15:52:46.326331Z",
     "shell.execute_reply": "2022-06-16T15:52:46.325378Z"
    },
    "papermill": {
     "duration": 0.495129,
     "end_time": "2022-06-16T15:52:46.328505",
     "exception": false,
     "start_time": "2022-06-16T15:52:45.833376",
     "status": "completed"
    },
    "tags": []
   },
   "outputs": [
    {
     "data": {
      "text/html": [
       "<div>\n",
       "<style scoped>\n",
       "    .dataframe tbody tr th:only-of-type {\n",
       "        vertical-align: middle;\n",
       "    }\n",
       "\n",
       "    .dataframe tbody tr th {\n",
       "        vertical-align: top;\n",
       "    }\n",
       "\n",
       "    .dataframe thead th {\n",
       "        text-align: right;\n",
       "    }\n",
       "</style>\n",
       "<table border=\"1\" class=\"dataframe\">\n",
       "  <thead>\n",
       "    <tr style=\"text-align: right;\">\n",
       "      <th></th>\n",
       "      <th>title</th>\n",
       "      <th>url</th>\n",
       "      <th>content</th>\n",
       "      <th>author</th>\n",
       "      <th>date</th>\n",
       "      <th>postexcerpt</th>\n",
       "      <th>article_len</th>\n",
       "      <th>content_clean</th>\n",
       "      <th>sent</th>\n",
       "    </tr>\n",
       "  </thead>\n",
       "  <tbody>\n",
       "  </tbody>\n",
       "</table>\n",
       "</div>"
      ],
      "text/plain": [
       "Empty DataFrame\n",
       "Columns: [title, url, content, author, date, postexcerpt, article_len, content_clean, sent]\n",
       "Index: []"
      ]
     },
     "execution_count": 42,
     "metadata": {},
     "output_type": "execute_result"
    }
   ],
   "source": [
    "df[df['sent'].isna()]"
   ]
  },
  {
   "cell_type": "code",
   "execution_count": 43,
   "id": "aef15894",
   "metadata": {
    "execution": {
     "iopub.execute_input": "2022-06-16T15:52:47.331375Z",
     "iopub.status.busy": "2022-06-16T15:52:47.330980Z",
     "iopub.status.idle": "2022-06-16T15:52:47.344000Z",
     "shell.execute_reply": "2022-06-16T15:52:47.343111Z"
    },
    "papermill": {
     "duration": 0.486908,
     "end_time": "2022-06-16T15:52:47.345837",
     "exception": false,
     "start_time": "2022-06-16T15:52:46.858929",
     "status": "completed"
    },
    "tags": []
   },
   "outputs": [
    {
     "data": {
      "text/plain": [
       "0        [-0.9019428, 0.037351925, 0.26196715, -0.35836...\n",
       "1        [-0.5073857, -0.2895692, 0.25624648, 0.1887589...\n",
       "2        [-0.09297916, 0.059920933, -0.3073481, -0.2615...\n",
       "3        [-0.3512235, 0.8825936, 0.5168351, -0.01005366...\n",
       "4        [-0.813682, 0.14057629, -0.0877423, 1.5811653,...\n",
       "                               ...                        \n",
       "17429    [-0.0016133866, 0.049662787, 0.00842653, 0.099...\n",
       "17430    [-0.07356896, -0.05683304, -0.5504059, 0.57474...\n",
       "17431    [-0.3709153, 0.176385, 0.28167152, 0.84053254,...\n",
       "17432    [-0.0553466, 0.11043572, -0.56933945, 0.283644...\n",
       "17433    [-0.08332095, -0.12280759, 0.024174461, 0.6542...\n",
       "Name: sent, Length: 17434, dtype: object"
      ]
     },
     "execution_count": 43,
     "metadata": {},
     "output_type": "execute_result"
    }
   ],
   "source": [
    "df['sent']"
   ]
  },
  {
   "cell_type": "code",
   "execution_count": 44,
   "id": "88970c71",
   "metadata": {
    "execution": {
     "iopub.execute_input": "2022-06-16T15:52:48.350457Z",
     "iopub.status.busy": "2022-06-16T15:52:48.349555Z",
     "iopub.status.idle": "2022-06-16T15:52:48.353215Z",
     "shell.execute_reply": "2022-06-16T15:52:48.352673Z"
    },
    "papermill": {
     "duration": 0.477228,
     "end_time": "2022-06-16T15:52:48.354796",
     "exception": false,
     "start_time": "2022-06-16T15:52:47.877568",
     "status": "completed"
    },
    "tags": []
   },
   "outputs": [],
   "source": [
    "#Use some techniques to determine the optimal number of clusters"
   ]
  },
  {
   "cell_type": "code",
   "execution_count": 45,
   "id": "81664614",
   "metadata": {
    "execution": {
     "iopub.execute_input": "2022-06-16T15:52:49.356666Z",
     "iopub.status.busy": "2022-06-16T15:52:49.355623Z",
     "iopub.status.idle": "2022-06-16T15:53:14.214479Z",
     "shell.execute_reply": "2022-06-16T15:53:14.213485Z"
    },
    "papermill": {
     "duration": 25.329698,
     "end_time": "2022-06-16T15:53:14.217266",
     "exception": false,
     "start_time": "2022-06-16T15:52:48.887568",
     "status": "completed"
    },
    "tags": []
   },
   "outputs": [
    {
     "data": {
      "image/png": "[encoded data removed]",
      "text/plain": [
       "<Figure size 576x396 with 2 Axes>"
      ]
     },
     "metadata": {},
     "output_type": "display_data"
    },
    {
     "data": {
      "text/plain": [
       "<AxesSubplot:title={'center':'Distortion Score Elbow for KMeans Clustering'}, xlabel='k', ylabel='distortion score'>"
      ]
     },
     "execution_count": 45,
     "metadata": {},
     "output_type": "execute_result"
    }
   ],
   "source": [
    "model = KMeans(init = 'k-means++', random_state = 18)\n",
    "visualizer = KElbowVisualizer(model, k = (2, 11), timings = True)\n",
    "visualizer.fit(np.array(sentences))\n",
    "visualizer.show()"
   ]
  },
  {
   "cell_type": "code",
   "execution_count": 46,
   "id": "72b4623c",
   "metadata": {
    "execution": {
     "iopub.execute_input": "2022-06-16T15:53:15.223861Z",
     "iopub.status.busy": "2022-06-16T15:53:15.223042Z",
     "iopub.status.idle": "2022-06-16T15:53:39.825129Z",
     "shell.execute_reply": "2022-06-16T15:53:39.824483Z"
    },
    "papermill": {
     "duration": 25.136683,
     "end_time": "2022-06-16T15:53:39.827260",
     "exception": false,
     "start_time": "2022-06-16T15:53:14.690577",
     "status": "completed"
    },
    "tags": []
   },
   "outputs": [
    {
     "data": {
      "image/png": "[encoded data removed]",
      "text/plain": [
       "<Figure size 576x396 with 2 Axes>"
      ]
     },
     "metadata": {},
     "output_type": "display_data"
    },
    {
     "data": {
      "text/plain": [
       "<AxesSubplot:title={'center':'Calinski Harabasz Score Elbow for KMeans Clustering'}, xlabel='k', ylabel='calinski harabasz score'>"
      ]
     },
     "execution_count": 46,
     "metadata": {},
     "output_type": "execute_result"
    }
   ],
   "source": [
    "model = KMeans(init = 'k-means++', random_state = 18)\n",
    "visualizer = KElbowVisualizer(model, k = (2, 11), metric = 'calinski_harabasz', timings = True)\n",
    "visualizer.fit(np.array(sentences))\n",
    "visualizer.show()"
   ]
  },
  {
   "cell_type": "code",
   "execution_count": 47,
   "id": "629e7aa6",
   "metadata": {
    "execution": {
     "iopub.execute_input": "2022-06-16T15:53:40.770579Z",
     "iopub.status.busy": "2022-06-16T15:53:40.769965Z",
     "iopub.status.idle": "2022-06-16T15:54:56.636307Z",
     "shell.execute_reply": "2022-06-16T15:54:56.635406Z"
    },
    "papermill": {
     "duration": 76.882291,
     "end_time": "2022-06-16T15:54:57.181722",
     "exception": false,
     "start_time": "2022-06-16T15:53:40.299431",
     "status": "completed"
    },
    "tags": []
   },
   "outputs": [
    {
     "data": {
      "image/png": "[encoded data removed]",
      "text/plain": [
       "<Figure size 576x396 with 2 Axes>"
      ]
     },
     "metadata": {},
     "output_type": "display_data"
    },
    {
     "data": {
      "text/plain": [
       "<AxesSubplot:title={'center':'Silhouette Score Elbow for KMeans Clustering'}, xlabel='k', ylabel='silhouette score'>"
      ]
     },
     "execution_count": 47,
     "metadata": {},
     "output_type": "execute_result"
    }
   ],
   "source": [
    "model = KMeans(init = 'k-means++', random_state = 18)\n",
    "visualizer = KElbowVisualizer(model, k = (2, 11), metric = 'silhouette', timings = True)\n",
    "visualizer.fit(np.array(sentences))\n",
    "visualizer.show()"
   ]
  },
  {
   "cell_type": "code",
   "execution_count": 48,
   "id": "b6f35b9e",
   "metadata": {
    "execution": {
     "iopub.execute_input": "2022-06-16T15:54:58.122585Z",
     "iopub.status.busy": "2022-06-16T15:54:58.122200Z",
     "iopub.status.idle": "2022-06-16T15:54:58.127531Z",
     "shell.execute_reply": "2022-06-16T15:54:58.126593Z"
    },
    "papermill": {
     "duration": 0.477807,
     "end_time": "2022-06-16T15:54:58.129366",
     "exception": false,
     "start_time": "2022-06-16T15:54:57.651559",
     "status": "completed"
    },
    "tags": []
   },
   "outputs": [],
   "source": [
    "def get_kmeans_score(data, center):\n",
    "\n",
    "    kmeans = KMeans(n_clusters = center, random_state = 18)\n",
    "    model = kmeans.fit_predict(data)\n",
    "    \n",
    "    score = davies_bouldin_score(data, model)\n",
    "    \n",
    "    return score"
   ]
  },
  {
   "cell_type": "code",
   "execution_count": 49,
   "id": "15b7cf28",
   "metadata": {
    "execution": {
     "iopub.execute_input": "2022-06-16T15:54:59.136083Z",
     "iopub.status.busy": "2022-06-16T15:54:59.135366Z",
     "iopub.status.idle": "2022-06-16T15:55:24.059683Z",
     "shell.execute_reply": "2022-06-16T15:55:24.058669Z"
    },
    "papermill": {
     "duration": 25.399659,
     "end_time": "2022-06-16T15:55:24.061757",
     "exception": false,
     "start_time": "2022-06-16T15:54:58.662098",
     "status": "completed"
    },
    "tags": []
   },
   "outputs": [
    {
     "data": {
      "image/png": "[encoded data removed]",
      "text/plain": [
       "<Figure size 576x396 with 1 Axes>"
      ]
     },
     "metadata": {},
     "output_type": "display_data"
    }
   ],
   "source": [
    "scores = []\n",
    "centers = list(range(2, 11))\n",
    "\n",
    "for center in centers:\n",
    "    scores.append(get_kmeans_score(np.array(sentences), center))\n",
    "    \n",
    "plt.plot(centers, scores, linestyle = '--', marker = 'o', color = 'b');\n",
    "plt.xlabel('Number of clusters');\n",
    "plt.ylabel('Davies Bouldin score');\n",
    "plt.title('Davies Bouldin score vs. number of clusters');"
   ]
  },
  {
   "cell_type": "code",
   "execution_count": 50,
   "id": "93b9be2e",
   "metadata": {
    "execution": {
     "iopub.execute_input": "2022-06-16T15:55:25.097240Z",
     "iopub.status.busy": "2022-06-16T15:55:25.096863Z",
     "iopub.status.idle": "2022-06-16T15:55:27.638082Z",
     "shell.execute_reply": "2022-06-16T15:55:27.637104Z"
    },
    "papermill": {
     "duration": 3.103656,
     "end_time": "2022-06-16T15:55:27.640231",
     "exception": false,
     "start_time": "2022-06-16T15:55:24.536575",
     "status": "completed"
    },
    "tags": []
   },
   "outputs": [
    {
     "data": {
      "text/plain": [
       "KMeans(n_clusters=5, random_state=22)"
      ]
     },
     "execution_count": 50,
     "metadata": {},
     "output_type": "execute_result"
    }
   ],
   "source": [
    "#I decided to stick with 5 as recommended by the distortion score metric, but you might want to play around with other values.\n",
    "\n",
    "model = KMeans(n_clusters = 5, init = 'k-means++', random_state = 22)\n",
    "model.fit(np.array(sentences))"
   ]
  },
  {
   "cell_type": "code",
   "execution_count": 51,
   "id": "b5d7f0df",
   "metadata": {
    "execution": {
     "iopub.execute_input": "2022-06-16T15:55:28.655823Z",
     "iopub.status.busy": "2022-06-16T15:55:28.654877Z",
     "iopub.status.idle": "2022-06-16T15:55:28.660354Z",
     "shell.execute_reply": "2022-06-16T15:55:28.659709Z"
    },
    "papermill": {
     "duration": 0.548401,
     "end_time": "2022-06-16T15:55:28.662353",
     "exception": false,
     "start_time": "2022-06-16T15:55:28.113952",
     "status": "completed"
    },
    "tags": []
   },
   "outputs": [],
   "source": [
    "df['K-means'] = model.labels_"
   ]
  },
  {
   "cell_type": "code",
   "execution_count": 52,
   "id": "863a6a78",
   "metadata": {
    "execution": {
     "iopub.execute_input": "2022-06-16T15:55:29.614249Z",
     "iopub.status.busy": "2022-06-16T15:55:29.613851Z",
     "iopub.status.idle": "2022-06-16T15:55:29.623089Z",
     "shell.execute_reply": "2022-06-16T15:55:29.622358Z"
    },
    "papermill": {
     "duration": 0.487198,
     "end_time": "2022-06-16T15:55:29.624795",
     "exception": false,
     "start_time": "2022-06-16T15:55:29.137597",
     "status": "completed"
    },
    "tags": []
   },
   "outputs": [
    {
     "data": {
      "text/plain": [
       "1    4672\n",
       "3    4120\n",
       "0    3920\n",
       "2    3107\n",
       "4    1615\n",
       "Name: K-means, dtype: int64"
      ]
     },
     "execution_count": 52,
     "metadata": {},
     "output_type": "execute_result"
    }
   ],
   "source": [
    "df['K-means'].value_counts()"
   ]
  },
  {
   "cell_type": "code",
   "execution_count": 53,
   "id": "b199859d",
   "metadata": {
    "execution": {
     "iopub.execute_input": "2022-06-16T15:55:30.638625Z",
     "iopub.status.busy": "2022-06-16T15:55:30.637925Z",
     "iopub.status.idle": "2022-06-16T15:55:30.657468Z",
     "shell.execute_reply": "2022-06-16T15:55:30.656728Z"
    },
    "papermill": {
     "duration": 0.502311,
     "end_time": "2022-06-16T15:55:30.659629",
     "exception": false,
     "start_time": "2022-06-16T15:55:30.157318",
     "status": "completed"
    },
    "tags": []
   },
   "outputs": [],
   "source": [
    "#Write the clean contents to a file where the columns are differet clusters\n",
    "\n",
    "kmeans_results_dict = defaultdict(list)\n",
    "\n",
    "for s, cluster in zip(df['content_clean'], df['K-means'].values):\n",
    "    cluster = \"Cluster %d\" % (cluster)\n",
    "    kmeans_results_dict[cluster].append(s)"
   ]
  },
  {
   "cell_type": "code",
   "execution_count": 54,
   "id": "4e45be66",
   "metadata": {
    "execution": {
     "iopub.execute_input": "2022-06-16T15:55:31.684366Z",
     "iopub.status.busy": "2022-06-16T15:55:31.683712Z",
     "iopub.status.idle": "2022-06-16T15:55:31.837052Z",
     "shell.execute_reply": "2022-06-16T15:55:31.835882Z"
    },
    "papermill": {
     "duration": 0.637119,
     "end_time": "2022-06-16T15:55:31.839360",
     "exception": false,
     "start_time": "2022-06-16T15:55:31.202241",
     "status": "completed"
    },
    "tags": []
   },
   "outputs": [],
   "source": [
    "all_clusters = pd.DataFrame.from_dict(kmeans_results_dict, orient = 'index').transpose()\n",
    "all_clusters = all_clusters.reindex(sorted(all_clusters.columns, key = lambda col: int(col.split()[-1])), axis = 1)"
   ]
  },
  {
   "cell_type": "code",
   "execution_count": 55,
   "id": "aa440a2b",
   "metadata": {
    "execution": {
     "iopub.execute_input": "2022-06-16T15:55:32.872772Z",
     "iopub.status.busy": "2022-06-16T15:55:32.872148Z",
     "iopub.status.idle": "2022-06-16T15:55:32.883282Z",
     "shell.execute_reply": "2022-06-16T15:55:32.882629Z"
    },
    "papermill": {
     "duration": 0.561856,
     "end_time": "2022-06-16T15:55:32.884965",
     "exception": false,
     "start_time": "2022-06-16T15:55:32.323109",
     "status": "completed"
    },
    "tags": []
   },
   "outputs": [
    {
     "data": {
      "text/html": [
       "<div>\n",
       "<style scoped>\n",
       "    .dataframe tbody tr th:only-of-type {\n",
       "        vertical-align: middle;\n",
       "    }\n",
       "\n",
       "    .dataframe tbody tr th {\n",
       "        vertical-align: top;\n",
       "    }\n",
       "\n",
       "    .dataframe thead th {\n",
       "        text-align: right;\n",
       "    }\n",
       "</style>\n",
       "<table border=\"1\" class=\"dataframe\">\n",
       "  <thead>\n",
       "    <tr style=\"text-align: right;\">\n",
       "      <th></th>\n",
       "      <th>Cluster 0</th>\n",
       "      <th>Cluster 1</th>\n",
       "      <th>Cluster 2</th>\n",
       "      <th>Cluster 3</th>\n",
       "      <th>Cluster 4</th>\n",
       "    </tr>\n",
       "  </thead>\n",
       "  <tbody>\n",
       "    <tr>\n",
       "      <th>0</th>\n",
       "      <td>begin develop ocean color sensor generation ge...</td>\n",
       "      <td>appear nation launch satellite base maritime d...</td>\n",
       "      <td>cash strap operator announce plan connectivity...</td>\n",
       "      <td>announce strategic partnership aerospace manuf...</td>\n",
       "      <td>dust storm change season limit ability ingenui...</td>\n",
       "    </tr>\n",
       "    <tr>\n",
       "      <th>1</th>\n",
       "      <td>space company begin adopt additive manufacturi...</td>\n",
       "      <td>member hearing planetary science decadal surve...</td>\n",
       "      <td>announce regulatory clearance hour tweet appro...</td>\n",
       "      <td>rocket arrive spaceport gear send space statio...</td>\n",
       "      <td>small satellite startup secure funding develop...</td>\n",
       "    </tr>\n",
       "    <tr>\n",
       "      <th>2</th>\n",
       "      <td>panel space logistic expert underscore importa...</td>\n",
       "      <td>budget responsive launch service commercial sm...</td>\n",
       "      <td>approve plan country access broadband service ...</td>\n",
       "      <td>story update information value task order iden...</td>\n",
       "      <td>announce portfolio company launch fund experim...</td>\n",
       "    </tr>\n",
       "    <tr>\n",
       "      <th>3</th>\n",
       "      <td>announce award contract provide satellite imag...</td>\n",
       "      <td>start study reexamine viability space base sol...</td>\n",
       "      <td>economic issue performance space company slow ...</td>\n",
       "      <td>tentatively schedule attempt fuel practice cou...</td>\n",
       "      <td>time planetary science community come conduct ...</td>\n",
       "    </tr>\n",
       "    <tr>\n",
       "      <th>4</th>\n",
       "      <td>supply chain disruption continue pose challeng...</td>\n",
       "      <td>government slow progress space traffic managem...</td>\n",
       "      <td>plan oneweb satellite partnership starlink eme...</td>\n",
       "      <td>prepare launch astronaut space station oversee...</td>\n",
       "      <td>continue investigate water leak spacesuit helm...</td>\n",
       "    </tr>\n",
       "  </tbody>\n",
       "</table>\n",
       "</div>"
      ],
      "text/plain": [
       "                                           Cluster 0  \\\n",
       "0  begin develop ocean color sensor generation ge...   \n",
       "1  space company begin adopt additive manufacturi...   \n",
       "2  panel space logistic expert underscore importa...   \n",
       "3  announce award contract provide satellite imag...   \n",
       "4  supply chain disruption continue pose challeng...   \n",
       "\n",
       "                                           Cluster 1  \\\n",
       "0  appear nation launch satellite base maritime d...   \n",
       "1  member hearing planetary science decadal surve...   \n",
       "2  budget responsive launch service commercial sm...   \n",
       "3  start study reexamine viability space base sol...   \n",
       "4  government slow progress space traffic managem...   \n",
       "\n",
       "                                           Cluster 2  \\\n",
       "0  cash strap operator announce plan connectivity...   \n",
       "1  announce regulatory clearance hour tweet appro...   \n",
       "2  approve plan country access broadband service ...   \n",
       "3  economic issue performance space company slow ...   \n",
       "4  plan oneweb satellite partnership starlink eme...   \n",
       "\n",
       "                                           Cluster 3  \\\n",
       "0  announce strategic partnership aerospace manuf...   \n",
       "1  rocket arrive spaceport gear send space statio...   \n",
       "2  story update information value task order iden...   \n",
       "3  tentatively schedule attempt fuel practice cou...   \n",
       "4  prepare launch astronaut space station oversee...   \n",
       "\n",
       "                                           Cluster 4  \n",
       "0  dust storm change season limit ability ingenui...  \n",
       "1  small satellite startup secure funding develop...  \n",
       "2  announce portfolio company launch fund experim...  \n",
       "3  time planetary science community come conduct ...  \n",
       "4  continue investigate water leak spacesuit helm...  "
      ]
     },
     "execution_count": 55,
     "metadata": {},
     "output_type": "execute_result"
    }
   ],
   "source": [
    "all_clusters.head()"
   ]
  },
  {
   "cell_type": "code",
   "execution_count": 56,
   "id": "826f52d1",
   "metadata": {
    "execution": {
     "iopub.execute_input": "2022-06-16T15:55:33.913948Z",
     "iopub.status.busy": "2022-06-16T15:55:33.913097Z",
     "iopub.status.idle": "2022-06-16T15:55:33.918392Z",
     "shell.execute_reply": "2022-06-16T15:55:33.917744Z"
    },
    "papermill": {
     "duration": 0.556427,
     "end_time": "2022-06-16T15:55:33.920751",
     "exception": false,
     "start_time": "2022-06-16T15:55:33.364324",
     "status": "completed"
    },
    "tags": []
   },
   "outputs": [],
   "source": [
    "#We will use YAKE to extract 15 keywords from each cluster and see if we can define a topic in each case.\n",
    "\n",
    "language = \"en\"\n",
    "max_ngram_size = 2\n",
    "deduplication_threshold = 0.3\n",
    "numOfKeywords = 15\n",
    "kw_extractor = yake.KeywordExtractor(lan = language, \n",
    "                                     n = max_ngram_size,\n",
    "                                     dedupLim = deduplication_threshold,\n",
    "                                     top = numOfKeywords,\n",
    "                                     features = None)"
   ]
  },
  {
   "cell_type": "code",
   "execution_count": 57,
   "id": "73edf85f",
   "metadata": {
    "execution": {
     "iopub.execute_input": "2022-06-16T15:55:34.873503Z",
     "iopub.status.busy": "2022-06-16T15:55:34.872856Z",
     "iopub.status.idle": "2022-06-16T15:58:47.494937Z",
     "shell.execute_reply": "2022-06-16T15:58:47.493742Z"
    },
    "papermill": {
     "duration": 193.105453,
     "end_time": "2022-06-16T15:58:47.497655",
     "exception": false,
     "start_time": "2022-06-16T15:55:34.392202",
     "status": "completed"
    },
    "tags": []
   },
   "outputs": [],
   "source": [
    "summary_dict_keywords = {}\n",
    "\n",
    "for cluster in all_clusters.columns:\n",
    "    #join the contents of each cluster into one huge string\n",
    "    t = ' '.join(all_clusters[all_clusters[cluster].notnull()][cluster])\n",
    "    #extract key words\n",
    "    keywords = kw_extractor.extract_keywords(t)\n",
    "    keywords = [i[0] for i in keywords]\n",
    "    #write to dict\n",
    "    summary_dict_keywords[cluster] = keywords"
   ]
  },
  {
   "cell_type": "code",
   "execution_count": 58,
   "id": "a186f305",
   "metadata": {
    "execution": {
     "iopub.execute_input": "2022-06-16T15:58:48.511982Z",
     "iopub.status.busy": "2022-06-16T15:58:48.511210Z",
     "iopub.status.idle": "2022-06-16T15:58:48.518921Z",
     "shell.execute_reply": "2022-06-16T15:58:48.517964Z"
    },
    "papermill": {
     "duration": 0.482,
     "end_time": "2022-06-16T15:58:48.520717",
     "exception": false,
     "start_time": "2022-06-16T15:58:48.038717",
     "status": "completed"
    },
    "tags": []
   },
   "outputs": [],
   "source": [
    "df_keywords = pd.DataFrame.from_dict(summary_dict_keywords, orient = 'index').transpose()\n",
    "df_keywords = df_keywords.reindex(sorted(df_keywords.columns, key = lambda col: int(col.split()[-1])), axis = 1)"
   ]
  },
  {
   "cell_type": "code",
   "execution_count": 59,
   "id": "7b6427e5",
   "metadata": {
    "execution": {
     "iopub.execute_input": "2022-06-16T15:58:49.530507Z",
     "iopub.status.busy": "2022-06-16T15:58:49.530105Z",
     "iopub.status.idle": "2022-06-16T15:58:49.535581Z",
     "shell.execute_reply": "2022-06-16T15:58:49.534714Z"
    },
    "papermill": {
     "duration": 0.479033,
     "end_time": "2022-06-16T15:58:49.537341",
     "exception": false,
     "start_time": "2022-06-16T15:58:49.058308",
     "status": "completed"
    },
    "tags": []
   },
   "outputs": [],
   "source": [
    "df_keywords.rename(columns = {'Cluster 0': 'Topic 1',\n",
    "                             'Cluster 1': 'Topic 2',\n",
    "                             'Cluster 2': 'Topic 3',\n",
    "                             'Cluster 3': 'Topic 4',\n",
    "                             'Cluster 4': 'Topic 5'}, inplace = True)"
   ]
  },
  {
   "cell_type": "code",
   "execution_count": 60,
   "id": "f36ad311",
   "metadata": {
    "execution": {
     "iopub.execute_input": "2022-06-16T15:58:50.549171Z",
     "iopub.status.busy": "2022-06-16T15:58:50.548582Z",
     "iopub.status.idle": "2022-06-16T15:58:50.559848Z",
     "shell.execute_reply": "2022-06-16T15:58:50.559151Z"
    },
    "papermill": {
     "duration": 0.54995,
     "end_time": "2022-06-16T15:58:50.561518",
     "exception": false,
     "start_time": "2022-06-16T15:58:50.011568",
     "status": "completed"
    },
    "tags": []
   },
   "outputs": [
    {
     "data": {
      "text/html": [
       "<div>\n",
       "<style scoped>\n",
       "    .dataframe tbody tr th:only-of-type {\n",
       "        vertical-align: middle;\n",
       "    }\n",
       "\n",
       "    .dataframe tbody tr th {\n",
       "        vertical-align: top;\n",
       "    }\n",
       "\n",
       "    .dataframe thead th {\n",
       "        text-align: right;\n",
       "    }\n",
       "</style>\n",
       "<table border=\"1\" class=\"dataframe\">\n",
       "  <thead>\n",
       "    <tr style=\"text-align: right;\">\n",
       "      <th></th>\n",
       "      <th>Topic 1</th>\n",
       "      <th>Topic 2</th>\n",
       "      <th>Topic 3</th>\n",
       "      <th>Topic 4</th>\n",
       "      <th>Topic 5</th>\n",
       "    </tr>\n",
       "  </thead>\n",
       "  <tbody>\n",
       "    <tr>\n",
       "      <th>0</th>\n",
       "      <td>satellite launch</td>\n",
       "      <td>commercial space</td>\n",
       "      <td>satellite launch</td>\n",
       "      <td>launch vehicle</td>\n",
       "      <td>mission launch</td>\n",
       "    </tr>\n",
       "    <tr>\n",
       "      <th>1</th>\n",
       "      <td>launch satellite</td>\n",
       "      <td>space program</td>\n",
       "      <td>launch satellite</td>\n",
       "      <td>satellite launch</td>\n",
       "      <td>launch mission</td>\n",
       "    </tr>\n",
       "    <tr>\n",
       "      <th>2</th>\n",
       "      <td>commercial space</td>\n",
       "      <td>launch vehicle</td>\n",
       "      <td>fleet operator</td>\n",
       "      <td>test flight</td>\n",
       "      <td>space agency</td>\n",
       "    </tr>\n",
       "    <tr>\n",
       "      <th>3</th>\n",
       "      <td>space base</td>\n",
       "      <td>satellite launch</td>\n",
       "      <td>service provider</td>\n",
       "      <td>space station</td>\n",
       "      <td>solar system</td>\n",
       "    </tr>\n",
       "    <tr>\n",
       "      <th>4</th>\n",
       "      <td>ground system</td>\n",
       "      <td>national security</td>\n",
       "      <td>broadband service</td>\n",
       "      <td>flight test</td>\n",
       "      <td>sample return</td>\n",
       "    </tr>\n",
       "    <tr>\n",
       "      <th>5</th>\n",
       "      <td>government commercial</td>\n",
       "      <td>budget request</td>\n",
       "      <td>revenue percent</td>\n",
       "      <td>company plan</td>\n",
       "      <td>orbit spacecraft</td>\n",
       "    </tr>\n",
       "    <tr>\n",
       "      <th>6</th>\n",
       "      <td>company develop</td>\n",
       "      <td>program include</td>\n",
       "      <td>percent company</td>\n",
       "      <td>mission company</td>\n",
       "      <td>project scientist</td>\n",
       "    </tr>\n",
       "    <tr>\n",
       "      <th>7</th>\n",
       "      <td>base company</td>\n",
       "      <td>government agency</td>\n",
       "      <td>band band</td>\n",
       "      <td>rocket engine</td>\n",
       "      <td>international space</td>\n",
       "    </tr>\n",
       "    <tr>\n",
       "      <th>8</th>\n",
       "      <td>contract build</td>\n",
       "      <td>spending bill</td>\n",
       "      <td>geostationary orbit</td>\n",
       "      <td>commercial crew</td>\n",
       "      <td>science team</td>\n",
       "    </tr>\n",
       "    <tr>\n",
       "      <th>9</th>\n",
       "      <td>system provide</td>\n",
       "      <td>science mission</td>\n",
       "      <td>commercial market</td>\n",
       "      <td>international space</td>\n",
       "      <td>weather satellite</td>\n",
       "    </tr>\n",
       "    <tr>\n",
       "      <th>10</th>\n",
       "      <td>geostationary orbit</td>\n",
       "      <td>long term</td>\n",
       "      <td>company announce</td>\n",
       "      <td>build satellite</td>\n",
       "      <td>exploration program</td>\n",
       "    </tr>\n",
       "    <tr>\n",
       "      <th>11</th>\n",
       "      <td>high resolution</td>\n",
       "      <td>agency budget</td>\n",
       "      <td>high throughput</td>\n",
       "      <td>cargo spacecraft</td>\n",
       "      <td>agency official</td>\n",
       "    </tr>\n",
       "    <tr>\n",
       "      <th>12</th>\n",
       "      <td>datum government</td>\n",
       "      <td>weather satellite</td>\n",
       "      <td>industry official</td>\n",
       "      <td>lift rocket</td>\n",
       "      <td>instrument design</td>\n",
       "    </tr>\n",
       "    <tr>\n",
       "      <th>13</th>\n",
       "      <td>orbit</td>\n",
       "      <td>human exploration</td>\n",
       "      <td>contract build</td>\n",
       "      <td>vehicle design</td>\n",
       "      <td>collect sample</td>\n",
       "    </tr>\n",
       "    <tr>\n",
       "      <th>14</th>\n",
       "      <td>develop technology</td>\n",
       "      <td>company develop</td>\n",
       "      <td>space industry</td>\n",
       "      <td>propulsion system</td>\n",
       "      <td>planet surface</td>\n",
       "    </tr>\n",
       "  </tbody>\n",
       "</table>\n",
       "</div>"
      ],
      "text/plain": [
       "                  Topic 1            Topic 2              Topic 3  \\\n",
       "0        satellite launch   commercial space     satellite launch   \n",
       "1        launch satellite      space program     launch satellite   \n",
       "2        commercial space     launch vehicle       fleet operator   \n",
       "3              space base   satellite launch     service provider   \n",
       "4           ground system  national security    broadband service   \n",
       "5   government commercial     budget request      revenue percent   \n",
       "6         company develop    program include      percent company   \n",
       "7            base company  government agency            band band   \n",
       "8          contract build      spending bill  geostationary orbit   \n",
       "9          system provide    science mission    commercial market   \n",
       "10    geostationary orbit          long term     company announce   \n",
       "11        high resolution      agency budget      high throughput   \n",
       "12       datum government  weather satellite    industry official   \n",
       "13                  orbit  human exploration       contract build   \n",
       "14     develop technology    company develop       space industry   \n",
       "\n",
       "                Topic 4              Topic 5  \n",
       "0        launch vehicle       mission launch  \n",
       "1      satellite launch       launch mission  \n",
       "2           test flight         space agency  \n",
       "3         space station         solar system  \n",
       "4           flight test        sample return  \n",
       "5          company plan     orbit spacecraft  \n",
       "6       mission company    project scientist  \n",
       "7         rocket engine  international space  \n",
       "8       commercial crew         science team  \n",
       "9   international space    weather satellite  \n",
       "10      build satellite  exploration program  \n",
       "11     cargo spacecraft      agency official  \n",
       "12          lift rocket    instrument design  \n",
       "13       vehicle design       collect sample  \n",
       "14    propulsion system       planet surface  "
      ]
     },
     "execution_count": 60,
     "metadata": {},
     "output_type": "execute_result"
    }
   ],
   "source": [
    "df_keywords"
   ]
  },
  {
   "cell_type": "code",
   "execution_count": 61,
   "id": "66e4c4ec",
   "metadata": {
    "execution": {
     "iopub.execute_input": "2022-06-16T15:58:51.568833Z",
     "iopub.status.busy": "2022-06-16T15:58:51.568211Z",
     "iopub.status.idle": "2022-06-16T15:58:51.571537Z",
     "shell.execute_reply": "2022-06-16T15:58:51.570969Z"
    },
    "papermill": {
     "duration": 0.539669,
     "end_time": "2022-06-16T15:58:51.573244",
     "exception": false,
     "start_time": "2022-06-16T15:58:51.033575",
     "status": "completed"
    },
    "tags": []
   },
   "outputs": [],
   "source": [
    "#Topic 1: general subjects, companies' activities\n",
    "#Topic 2: national security, working with the government, money, funds\n",
    "#Topic 3: provision of communication services, commercial sector, customers and contracts\n",
    "#Topic 4: launches of rockets and satellites, engines, design, test flights, delivering crew and cargo to orbit\n",
    "#Topic 5: space exploration, space programs and projects, science and research"
   ]
  },
  {
   "cell_type": "code",
   "execution_count": 62,
   "id": "a2504deb",
   "metadata": {
    "execution": {
     "iopub.execute_input": "2022-06-16T15:58:52.519927Z",
     "iopub.status.busy": "2022-06-16T15:58:52.519341Z",
     "iopub.status.idle": "2022-06-16T15:58:52.522604Z",
     "shell.execute_reply": "2022-06-16T15:58:52.521983Z"
    },
    "papermill": {
     "duration": 0.475959,
     "end_time": "2022-06-16T15:58:52.524512",
     "exception": false,
     "start_time": "2022-06-16T15:58:52.048553",
     "status": "completed"
    },
    "tags": []
   },
   "outputs": [],
   "source": [
    "#df_keywords.to_csv('spacenews_topics.csv', index = False)"
   ]
  },
  {
   "cell_type": "code",
   "execution_count": null,
   "id": "6b897abe",
   "metadata": {
    "papermill": {
     "duration": 0.476072,
     "end_time": "2022-06-16T15:58:53.544299",
     "exception": false,
     "start_time": "2022-06-16T15:58:53.068227",
     "status": "completed"
    },
    "tags": []
   },
   "outputs": [],
   "source": []
  }
 ],
 "metadata": {
  "kernelspec": {
   "display_name": "Python 3 (ipykernel)",
   "language": "python",
   "name": "python3"
  },
  "language_info": {
   "codemirror_mode": {
    "name": "ipython",
    "version": 3
   },
   "file_extension": ".py",
   "mimetype": "text/x-python",
   "name": "python",
   "nbconvert_exporter": "python",
   "pygments_lexer": "ipython3",
   "version": "3.10.9"
  },
  "papermill": {
   "default_parameters": {},
   "duration": 2576.378954,
   "end_time": "2022-06-16T15:58:56.967916",
   "environment_variables": {},
   "exception": null,
   "input_path": "__notebook__.ipynb",
   "output_path": "__notebook__.ipynb",
   "parameters": {},
   "start_time": "2022-06-16T15:16:00.588962",
   "version": "2.3.4"
  }
 },
 "nbformat": 4,
 "nbformat_minor": 5
}
